{
 "cells": [
  {
   "cell_type": "code",
   "execution_count": 4,
   "id": "70f6f52a",
   "metadata": {},
   "outputs": [
    {
     "name": "stdout",
     "output_type": "stream",
     "text": [
      "Test loss: 0.1283\n",
      "R2 score: 0.8413160866878336\n"
     ]
    },
    {
     "data": {
      "image/png": "[encoded data removed]",
      "text/plain": [
       "<Figure size 432x288 with 1 Axes>"
      ]
     },
     "metadata": {
      "needs_background": "light"
     },
     "output_type": "display_data"
    }
   ],
   "source": [
    "import torch\n",
    "import torch.nn as nn\n",
    "import torch.optim as optim\n",
    "from sklearn.datasets import load_boston\n",
    "from sklearn.preprocessing import StandardScaler\n",
    "from sklearn.model_selection import train_test_split\n",
    "from sklearn.metrics import r2_score, mean_squared_error\n",
    "import matplotlib.pyplot as plt\n",
    "\n",
    "# Učitavanje skupa podataka\n",
    "boston = load_boston()\n",
    "\n",
    "# Standardizacija podataka\n",
    "scaler = StandardScaler()\n",
    "X = scaler.fit_transform(boston.data)\n",
    "y = scaler.fit_transform(boston.target.reshape(-1, 1))\n",
    "\n",
    "# Razdvajanje skupa podataka na skupove za obučavanje i testiranje\n",
    "X_train, X_test, y_train, y_test = train_test_split(X, y, test_size=0.2, random_state=42)\n",
    "\n",
    "# Definisanje potpuno povezane neuronske mreže\n",
    "class Net(nn.Module):\n",
    "    def __init__(self):\n",
    "        super(Net, self).__init__()\n",
    "        self.fc1 = nn.Linear(13, 64)\n",
    "        self.fc2 = nn.Linear(64, 32)\n",
    "        self.fc3 = nn.Linear(32, 1)\n",
    "\n",
    "    def forward(self, x):\n",
    "        x = torch.relu(self.fc1(x))\n",
    "        x = torch.relu(self.fc2(x))\n",
    "        x = self.fc3(x)\n",
    "        return x\n",
    "\n",
    "# Definisanje funkcije gubitka i optimizatora\n",
    "net = Net()\n",
    "criterion = nn.MSELoss()\n",
    "optimizer = optim.Adam(net.parameters(), lr=0.001)\n",
    "\n",
    "# Pamcenje funkcije gubitka tokom treninga\n",
    "train_losses = []\n",
    "\n",
    "# Obučavanje neuronske mreže\n",
    "for epoch in range(1000):\n",
    "    inputs = torch.from_numpy(X_train).float()\n",
    "    targets = torch.from_numpy(y_train).float()\n",
    "    optimizer.zero_grad()\n",
    "    outputs = net(inputs)\n",
    "    loss = criterion(outputs, targets)\n",
    "    train_losses.append(loss)\n",
    "    loss.backward()\n",
    "    optimizer.step()\n",
    "\n",
    "# Vizuelizacija loss funkcije tokom treninga:\n",
    "plt.plot(train_losses)\n",
    "plt.xlabel('Epoch')\n",
    "plt.ylabel('Loss')\n",
    "plt.title('Change in loss during training')\n",
    "\n",
    "\n",
    "# Testiranje neuronske mreže\n",
    "with torch.no_grad():\n",
    "    inputs = torch.from_numpy(X_test).float()\n",
    "    targets = torch.from_numpy(y_test).float()\n",
    "    outputs = net(inputs)\n",
    "    test_loss = criterion(outputs, targets)\n",
    "    print(f\"Test loss: {test_loss.item():.4f}\")\n",
    "    print(f\"R2 score: {r2_score(outputs, targets)}\")\n",
    "\n",
    "\n"
   ]
  },
  {
   "cell_type": "code",
   "execution_count": null,
   "id": "d0de3f7d",
   "metadata": {},
   "outputs": [],
   "source": []
  }
 ],
 "metadata": {
  "kernelspec": {
   "display_name": "Python 3",
   "language": "python",
   "name": "python3"
  },
  "language_info": {
   "codemirror_mode": {
    "name": "ipython",
    "version": 3
   },
   "file_extension": ".py",
   "mimetype": "text/x-python",
   "name": "python",
   "nbconvert_exporter": "python",
   "pygments_lexer": "ipython3",
   "version": "3.8.5"
  }
 },
 "nbformat": 4,
 "nbformat_minor": 5
}
