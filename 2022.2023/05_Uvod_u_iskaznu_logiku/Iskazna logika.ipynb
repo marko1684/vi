{
 "cells": [
  {
   "cell_type": "code",
   "execution_count": 1,
   "metadata": {},
   "outputs": [],
   "source": [
    "import copy\n",
    "from itertools import combinations\n",
    "\n",
    "# x,y,z,w # 2 ^ n\n",
    "def all_valuations(variables):\n",
    "    # r=0,1,2,3,,,len(variables)\n",
    "    for r in range(len(variables) + 1):\n",
    "        for true_varibles in combinations(variables, r):\n",
    "            result = {x: False for x in variables}\n",
    "            result.update({x:True for x in true_varibles})\n",
    "            yield result\n",
    "\n",
    "class Formula:\n",
    "    def __init__(self):\n",
    "        self.components = []\n",
    "\n",
    "    def interpret(self, valuation):\n",
    "        pass\n",
    "\n",
    "    def __repr__(self):\n",
    "        return str(self)\n",
    "\n",
    "    def __eq__(self, rhs): # self == rhs => self.__eq__(rhs)\n",
    "        return Eq(self.copy(), rhs.copy())\n",
    "\n",
    "    def __and__(self, rhs): # self & rhs => self.__and__(rhs)\n",
    "        return And(self.copy(), rhs.copy())\n",
    "\n",
    "    def __or__(self, rhs):\n",
    "        return Or(self.copy(), rhs.copy())\n",
    "\n",
    "    def __rshift__(self, rhs):\n",
    "        return Impl(self.copy(), rhs.copy())\n",
    "\n",
    "    def __invert__(self):\n",
    "        return Not(self.copy())\n",
    "    \n",
    "    def copy(self):\n",
    "        return copy.deepcopy(self)\n",
    "\n",
    "    def get_all_variables(self):\n",
    "        result = set()\n",
    "        for c in self.components:\n",
    "            result.update(c.get_all_variables())\n",
    "        return result\n",
    "\n",
    "    def is_valid(self):\n",
    "        variables = list(self.get_all_variables())\n",
    "        for valuation in all_valuations(variables):\n",
    "            if self.interpret(valuation) == False:\n",
    "                return False, valuation\n",
    "        return True, None\n",
    "\n",
    "    def is_satisfiable(self):\n",
    "        variables = list(self.get_all_variables())\n",
    "        for valuation in all_valuations(variables):\n",
    "            if self.interpret(valuation) == True:\n",
    "                return True, valuation\n",
    "        return False, None\n",
    "\n",
    "    def is_contradictory(self):\n",
    "        variables = list(self.get_all_variables())\n",
    "        for valuation in all_valuations(variables):\n",
    "            if self.interpret(valuation) == True:\n",
    "                return False, valuation\n",
    "        return True, None\n",
    "\n",
    "    def is_falsifiable(self):\n",
    "        variables = list(self.get_all_variables())\n",
    "        for valuation in all_valuations(variables):\n",
    "            if self.interpret(valuation) == False:\n",
    "                return True, valuation\n",
    "        return False, None\n",
    "\n",
    "    def all_valuations_that_interpret_to_true(self):\n",
    "        result = []\n",
    "        variables = list(self.get_all_variables())\n",
    "        for valuation in all_valuations(variables):\n",
    "            if self.interpret(valuation) == True:\n",
    "                result.append(valuation)\n",
    "        return result\n",
    "\n",
    "    \n",
    "class Var(Formula):\n",
    "    def __init__(self, name):\n",
    "        super().__init__()\n",
    "        self.name = name\n",
    "\n",
    "    def interpret(self, valuation):\n",
    "        return valuation[self.name]\n",
    "\n",
    "    def get_all_variables(self):\n",
    "        return set([self.name]) # prom => {'p', 'r', 'o', 'm'}\n",
    "\n",
    "    def __str__(self):\n",
    "        return self.name\n",
    "\n",
    "class Const(Formula):\n",
    "    def __init__(self, value):\n",
    "        super().__init__()\n",
    "        self.value = value\n",
    "    \n",
    "    def interpret(self, valuation):\n",
    "        return self.value\n",
    "\n",
    "    def __str__(self):\n",
    "        return \"{}\".format(1 if self.value else 0)\n",
    "\n",
    "class And(Formula):\n",
    "    def __init__(self, lhs, rhs):\n",
    "        super().__init__()\n",
    "        self.components = [lhs, rhs]\n",
    "\n",
    "    def interpret(self, valuation):\n",
    "        return self.components[0].interpret(valuation) and self.components[1].interpret(valuation)\n",
    "\n",
    "    def __str__(self):\n",
    "        return f\"({self.components[0]}) & ({self.components[1]})\"\n",
    "\n",
    "\n",
    "class Or(Formula):\n",
    "    def __init__(self, lhs, rhs):\n",
    "        super().__init__()\n",
    "        self.components = [lhs, rhs]\n",
    "\n",
    "    def interpret(self, valuation):\n",
    "        return self.components[0].interpret(valuation) or self.components[1].interpret(valuation)\n",
    "\n",
    "    def __str__(self):\n",
    "        return f\"({self.components[0]}) | ({self.components[1]})\"\n",
    "\n",
    "\n",
    "class Impl(Formula):\n",
    "    def __init__(self, lhs, rhs):\n",
    "        super().__init__()\n",
    "        self.components = [lhs, rhs]\n",
    "\n",
    "    def interpret(self, valuation):\n",
    "        # p => q <=> not p ili q\n",
    "        return not self.components[0].interpret(valuation) or self.components[1].interpret(valuation)\n",
    "\n",
    "    def __str__(self):\n",
    "        return f\"({self.components[0]}) >> ({self.components[1]})\"\n",
    "\n",
    "class Eq(Formula):\n",
    "    def __init__(self, lhs, rhs):\n",
    "        super().__init__()\n",
    "        self.components = [lhs, rhs]\n",
    "    \n",
    "    def interpret(self, valuation):\n",
    "        return self.components[0].interpret(valuation) == self.components[1].interpret(valuation)\n",
    "\n",
    "    def __str__(self):\n",
    "        return f\"({self.components[0]}) == ({self.components[1]})\"\n",
    "\n",
    "class Not(Formula):\n",
    "    def __init__(self, op):\n",
    "        super().__init__()\n",
    "        self.components = [op]\n",
    "\n",
    "    def interpret(self, valuation):\n",
    "        return not self.components[0].interpret(valuation)\n",
    "\n",
    "    def __str__(self):\n",
    "        return f\"~({self.components[0]})\"\n",
    "\n",
    "def vars(names):\n",
    "    return [Var(name.strip()) for name in names.split(',')]"
   ]
  },
  {
   "cell_type": "code",
   "execution_count": 2,
   "metadata": {},
   "outputs": [],
   "source": [
    "def evaluate_formula(formula):\n",
    "    print(formula)\n",
    "    print(\"is_valid: \", formula.is_valid())\n",
    "    print(\"is_satisfiable: \", formula.is_satisfiable())\n",
    "    print(\"is_falsifiable: \", formula.is_falsifiable())\n",
    "    print(\"is_contradictory: \", formula.is_contradictory())\n",
    "    print(\"all true valuations: \")\n",
    "    for val in all_valuations(formula.get_all_variables()):\n",
    "        if formula.interpret(val):\n",
    "            print(val)"
   ]
  },
  {
   "cell_type": "code",
   "execution_count": 3,
   "metadata": {},
   "outputs": [
    {
     "name": "stdout",
     "output_type": "stream",
     "text": [
      "(x) | (~(x))\n",
      "True\n",
      "is_valid:  (True, None)\n",
      "is_satisfiable:  (True, {'x': False})\n",
      "is_falsifiable:  (False, None)\n",
      "is_contradictory:  (False, {'x': False})\n"
     ]
    }
   ],
   "source": [
    "x, y, z = vars(\"x,y,z\")\n",
    "formula = x | ~x\n",
    "# formula = Or(\n",
    "#     And(x,y),\n",
    "#     Impl(y,z)\n",
    "# )\n",
    "valuation = {\n",
    "    \"x\": True,\n",
    "    \"y\": False,\n",
    "    \"z\": True\n",
    "}\n",
    "print(formula)\n",
    "print(formula.interpret(valuation))\n",
    "print(\"is_valid: \", formula.is_valid())\n",
    "print(\"is_satisfiable: \", formula.is_satisfiable())\n",
    "print(\"is_falsifiable: \", formula.is_falsifiable())\n",
    "print(\"is_contradictory: \", formula.is_contradictory())"
   ]
  },
  {
   "cell_type": "code",
   "execution_count": 4,
   "metadata": {},
   "outputs": [
    {
     "name": "stdout",
     "output_type": "stream",
     "text": [
      "(ana_je_zubar) | (~(ana_je_zubar))\n",
      "is_valid:  (True, None)\n",
      "is_satisfiable:  (True, {'ana_je_zubar': False})\n",
      "is_falsifiable:  (False, None)\n",
      "is_contradictory:  (False, {'ana_je_zubar': False})\n",
      "all true valuations: \n",
      "{'ana_je_zubar': False}\n",
      "{'ana_je_zubar': True}\n"
     ]
    }
   ],
   "source": [
    "ana_je_zubar = Var(\"ana_je_zubar\")\n",
    "formula = ana_je_zubar | ~ana_je_zubar\n",
    "evaluate_formula(formula)"
   ]
  },
  {
   "cell_type": "code",
   "execution_count": 5,
   "metadata": {},
   "outputs": [
    {
     "name": "stdout",
     "output_type": "stream",
     "text": [
      "(p) >> (q)\n",
      "is_valid:  (False, {'p': True, 'q': False})\n",
      "is_satisfiable:  (True, {'p': False, 'q': False})\n",
      "is_falsifiable:  (True, {'p': True, 'q': False})\n",
      "is_contradictory:  (False, {'p': False, 'q': False})\n",
      "all true valuations: \n",
      "{'p': False, 'q': False}\n",
      "{'p': False, 'q': True}\n",
      "{'p': True, 'q': True}\n"
     ]
    }
   ],
   "source": [
    "p,q = vars(\"p,q\")\n",
    "formula = p >> q\n",
    "evaluate_formula(formula)"
   ]
  },
  {
   "cell_type": "code",
   "execution_count": 6,
   "metadata": {},
   "outputs": [
    {
     "name": "stdout",
     "output_type": "stream",
     "text": [
      "(((((((((A) | (B)) & (~((A) & (B)))) & ((B) | (A))) & (~((B) & (A)))) & (~(((~(A)) & (~(B))) & (~(C))))) & ((A) | (B))) & ((B) | (C))) & ((A) | (C))) & (~(((A) & (B)) & (C)))\n",
      "is_valid:  (False, {'C': False, 'B': False, 'A': False})\n",
      "is_satisfiable:  (True, {'C': True, 'B': True, 'A': False})\n",
      "is_falsifiable:  (True, {'C': False, 'B': False, 'A': False})\n",
      "is_contradictory:  (False, {'C': True, 'B': True, 'A': False})\n",
      "all true valuations: \n",
      "{'C': True, 'B': True, 'A': False}\n",
      "{'C': True, 'B': False, 'A': True}\n"
     ]
    }
   ],
   "source": [
    "'''\n",
    "U igri mines dimenzija 2x3 dobijena je sledeca konfiguracija\n",
    "|1|A|C|\n",
    "|1|B|2|\n",
    "A,B,C su neotvorena polja, a brojevi oznacavaju broj mina u okolnim poljima.\n",
    "Zapisati u iskaznoj logici uslove koji moraju da vaze.\n",
    "'''\n",
    "A,B,C = vars(\"A,B,C\")\n",
    "formula = (A | B) & ~(A & B) \\\n",
    "    & (B | A) & ~(B & A) \\\n",
    "    & ~(~A & ~B & ~C)\\\n",
    "    & (A | B)\\\n",
    "    & (B | C)\\\n",
    "    & (A | C)\\\n",
    "    & ~(A & B & C)\n",
    "evaluate_formula(formula)"
   ]
  },
  {
   "cell_type": "code",
   "execution_count": 7,
   "metadata": {},
   "outputs": [
    {
     "name": "stdout",
     "output_type": "stream",
     "text": [
      "(((A) | (B)) & (~((A) & (B)))) & (~((~(A)) & (~(B))))\n",
      "is_valid:  (False, {'B': False, 'A': False})\n",
      "is_satisfiable:  (True, {'B': True, 'A': False})\n",
      "is_falsifiable:  (True, {'B': False, 'A': False})\n",
      "is_contradictory:  (False, {'B': True, 'A': False})\n",
      "all true valuations: \n",
      "{'B': True, 'A': False}\n",
      "{'B': False, 'A': True}\n"
     ]
    }
   ],
   "source": [
    "'''\n",
    "Date su dve kutije A,B robot mora da stavi objekat u tacno jednu od njih.\n",
    "'''\n",
    "A, B = vars(\"A,B\")\n",
    "formula = (A | B) & ~(A & B) & ~(~A & ~B)\n",
    "evaluate_formula(formula)"
   ]
  },
  {
   "cell_type": "code",
   "execution_count": 8,
   "metadata": {},
   "outputs": [
    {
     "name": "stdout",
     "output_type": "stream",
     "text": [
      "((((A) | (B)) & ((C) | (D))) & (~((A) & (B)))) & (~((C) & (D)))\n",
      "is_valid:  (False, {'C': False, 'D': False, 'B': False, 'A': False})\n",
      "is_satisfiable:  (True, {'C': True, 'D': False, 'B': True, 'A': False})\n",
      "is_falsifiable:  (True, {'C': False, 'D': False, 'B': False, 'A': False})\n",
      "is_contradictory:  (False, {'C': True, 'D': False, 'B': True, 'A': False})\n",
      "all true valuations: \n",
      "{'C': True, 'D': False, 'B': True, 'A': False}\n",
      "{'C': True, 'D': False, 'B': False, 'A': True}\n",
      "{'C': False, 'D': True, 'B': True, 'A': False}\n",
      "{'C': False, 'D': True, 'B': False, 'A': True}\n"
     ]
    }
   ],
   "source": [
    "''' \n",
    "|A|B|\n",
    "|C|D|\n",
    "Zapisati uslov da se u tabeli 2x2 sa poljima A,B,C,D moze postaviti tacno jedan zeton u \n",
    "svakom redu\n",
    "'''\n",
    "A,B,C,D = vars(\"A,B,C,D\")\n",
    "formula = (A | B) & (C | D) & ~(A & B) & ~(C & D)\n",
    "evaluate_formula(formula)"
   ]
  },
  {
   "cell_type": "code",
   "execution_count": 9,
   "metadata": {},
   "outputs": [
    {
     "name": "stdout",
     "output_type": "stream",
     "text": [
      "((A) == (B)) & ((B) == (C))\n",
      "is_valid:  (False, {'C': True, 'B': False, 'A': False})\n",
      "is_satisfiable:  (True, {'C': False, 'B': False, 'A': False})\n",
      "is_falsifiable:  (True, {'C': True, 'B': False, 'A': False})\n",
      "is_contradictory:  (False, {'C': False, 'B': False, 'A': False})\n",
      "all true valuations: \n",
      "{'C': False, 'B': False, 'A': False}\n",
      "{'C': True, 'B': True, 'A': True}\n"
     ]
    }
   ],
   "source": [
    "'''\n",
    "U iskaznoj logici zapisati uslov da bitovi 3-bitnog polja moraju biti jednaki\n",
    "'''\n",
    "A,B,C = vars(\"A,B,C\")\n",
    "formula = (A == B) & (B == C)\n",
    "evaluate_formula(formula)"
   ]
  },
  {
   "cell_type": "code",
   "execution_count": 10,
   "metadata": {},
   "outputs": [
    {
     "name": "stdout",
     "output_type": "stream",
     "text": [
      "((((B) | (D)) & (~((B) & (D)))) & ((A) | (C))) & (~((A) & (C)))\n",
      "is_valid:  (False, {'C': False, 'D': False, 'B': False, 'A': False})\n",
      "is_satisfiable:  (True, {'C': True, 'D': True, 'B': False, 'A': False})\n",
      "is_falsifiable:  (True, {'C': False, 'D': False, 'B': False, 'A': False})\n",
      "is_contradictory:  (False, {'C': True, 'D': True, 'B': False, 'A': False})\n",
      "all true valuations: \n",
      "{'C': True, 'D': True, 'B': False, 'A': False}\n",
      "{'C': True, 'D': False, 'B': True, 'A': False}\n",
      "{'C': False, 'D': True, 'B': False, 'A': True}\n",
      "{'C': False, 'D': False, 'B': True, 'A': True}\n"
     ]
    }
   ],
   "source": [
    "'''\n",
    "Dva dvobitna broja se sabiraju i daju rezultat 3.\n",
    "1+2\n",
    "2+1\n",
    "3+0\n",
    "0+3\n",
    "    A B\n",
    "    C D\n",
    "    ---\n",
    "    1 1\n",
    "'''\n",
    "A,B,C,D = vars(\"A,B,C,D\")\n",
    "formula = (B | D) & ~(B & D) & (A | C) & ~(A & C)\n",
    "evaluate_formula(formula)"
   ]
  },
  {
   "cell_type": "code",
   "execution_count": 11,
   "metadata": {},
   "outputs": [
    {
     "name": "stdout",
     "output_type": "stream",
     "text": [
      "(((A) == (D)) & ((B) == (C))) & (~((((A) == (B)) & ((B) == (C))) & ((C) == (D))))\n",
      "is_valid:  (False, {'B': False, 'A': False, 'C': False, 'D': False})\n",
      "is_satisfiable:  (True, {'B': True, 'A': False, 'C': True, 'D': False})\n",
      "is_falsifiable:  (True, {'B': False, 'A': False, 'C': False, 'D': False})\n",
      "is_contradictory:  (False, {'B': True, 'A': False, 'C': True, 'D': False})\n",
      "all true valuations: \n",
      "{'B': True, 'A': False, 'C': True, 'D': False}\n",
      "{'B': False, 'A': True, 'C': False, 'D': True}\n"
     ]
    }
   ],
   "source": [
    "'''\n",
    "U iskoznoj logici zapisati da je 4 bitna reprezentacija broja palindrom ali da \n",
    "bitovi nisu jednaki\n",
    "ABCD\n",
    "'''\n",
    "\n",
    "A,B,C,D = vars(\"A,B,C,D\")\n",
    "formula = (A == D) & (B == C) & ~((A == B) & (B == C) & (C == D)) # ! Zagrade zbog prioriteta operatora!\n",
    "evaluate_formula(formula)"
   ]
  },
  {
   "cell_type": "code",
   "execution_count": 12,
   "metadata": {},
   "outputs": [
    {
     "name": "stdout",
     "output_type": "stream",
     "text": [
      "((A) >> ((B) == (C))) & ((B) >> (~(C)))\n",
      "is_valid:  (False, {'C': True, 'B': True, 'A': False})\n",
      "is_satisfiable:  (True, {'C': False, 'B': False, 'A': False})\n",
      "is_falsifiable:  (True, {'C': True, 'B': True, 'A': False})\n",
      "is_contradictory:  (False, {'C': False, 'B': False, 'A': False})\n",
      "all true valuations: \n",
      "{'C': False, 'B': False, 'A': False}\n",
      "{'C': True, 'B': False, 'A': False}\n",
      "{'C': False, 'B': True, 'A': False}\n",
      "{'C': False, 'B': False, 'A': True}\n"
     ]
    }
   ],
   "source": [
    "'''\n",
    "Tri polja se boje crvenom ili plavom. \n",
    "Ukoliko je prvo crveno, druga dva moraju biti iste boje.\n",
    "Ukoliko je drugo crveno, trece mora biti plavo.\n",
    "'''\n",
    "A,B,C = vars(\"A,B,C\") # A:True => A crveno\n",
    "formula = (A >> (B == C)) & (B >> ~C)\n",
    "evaluate_formula(formula)"
   ]
  },
  {
   "cell_type": "code",
   "execution_count": 13,
   "metadata": {},
   "outputs": [
    {
     "name": "stdout",
     "output_type": "stream",
     "text": [
      "((~((A) == (B))) & (~((B) == (C)))) & (~((A) == (C)))\n",
      "is_valid:  (False, {'C': False, 'B': False, 'A': False})\n",
      "is_satisfiable:  (False, None)\n",
      "is_falsifiable:  (True, {'C': False, 'B': False, 'A': False})\n",
      "is_contradictory:  (True, None)\n",
      "all true valuations: \n"
     ]
    }
   ],
   "source": [
    "'''\n",
    "    A\n",
    "   / \\\\\n",
    "  B - C\n",
    "Temana trougla A,B,C se boje sa dve boje, pri tome ni jedan par temena ne moze imati istu boju.\n",
    "'''\n",
    "\n",
    "A,B,C = vars(\"A,B,C\")\n",
    "formula = ~(A == B) & ~(B == C) & ~(A == C)\n",
    "evaluate_formula(formula)"
   ]
  },
  {
   "cell_type": "code",
   "execution_count": 14,
   "metadata": {},
   "outputs": [
    {
     "name": "stdout",
     "output_type": "stream",
     "text": [
      "(((A) >> (((~(B)) | (~(C))) | (~(D)))) & ((~(D)) >> ((((A) & (B)) | ((B) & (C))) | ((A) & (C))))) & ((((A) == (B)) & ((B) == (C))) & ((C) == (D)))\n",
      "is_valid:  (False, {'B': False, 'A': False, 'C': False, 'D': False})\n",
      "is_satisfiable:  (False, None)\n",
      "is_falsifiable:  (True, {'B': False, 'A': False, 'C': False, 'D': False})\n",
      "is_contradictory:  (True, None)\n",
      "all true valuations: \n"
     ]
    }
   ],
   "source": [
    "'''\n",
    "|A|B|\n",
    "|C|D|\n",
    "Tabela 2x2 se boji crvenom ili plavom bojom.\n",
    "Ako je polje A ofarbano crvenom onda barem jedno od ostalih polja mora biti plavo.\n",
    "Ako je polje D ofarabno plavom onda barem dva ostala moraju biti crvena.\n",
    "Ne smeju sva polja biti ofarabana istom bojom.\n",
    "'''\n",
    "A,B,C,D = vars(\"A,B,C,D\")\n",
    "formula = (A >> (~B | ~C | ~D)) & (~D >> ((A & B) | (B & C) | (A & C))) \\\n",
    "    & ((A == B) & (B == C) & (C == D))\n",
    "evaluate_formula(formula)"
   ]
  }
 ],
 "metadata": {
  "kernelspec": {
   "display_name": "Python 3",
   "language": "python",
   "name": "python3"
  },
  "language_info": {
   "codemirror_mode": {
    "name": "ipython",
    "version": 3
   },
   "file_extension": ".py",
   "mimetype": "text/x-python",
   "name": "python",
   "nbconvert_exporter": "python",
   "pygments_lexer": "ipython3",
   "version": "3.8.10"
  }
 },
 "nbformat": 4,
 "nbformat_minor": 5
}
