{
 "cells": [
  {
   "cell_type": "code",
   "execution_count": 7,
   "metadata": {},
   "outputs": [],
   "source": [
    "from itertools import product\n",
    "import os\n"
   ]
  },
  {
   "cell_type": "code",
   "execution_count": 8,
   "metadata": {},
   "outputs": [],
   "source": [
    "class CNF:\n",
    "    def __init__(self):\n",
    "        self.clauses = []\n",
    "        self.number_to_var_name = {}\n",
    "        self.var_name_to_number = {}\n",
    "    \n",
    "    def add_clause(self, clause):\n",
    "        for literal in clause:\n",
    "            var_name = literal.strip('-')\n",
    "            if var_name not in self.var_name_to_number:\n",
    "                var_number = len(self.var_name_to_number) + 1\n",
    "                self.var_name_to_number[var_name] = var_number\n",
    "                self.number_to_var_name[var_number] = var_name\n",
    "        self.clauses.append(clause)\n",
    "\n",
    "    def dimacs(self):\n",
    "        # STUDENTSKI KOD\n",
    "        pass \n",
    "    \n",
    "    def get_var_name(self, number: int):\n",
    "        return self.vars[number]\n",
    "\n",
    "    def get_var_number(self, name: str):\n",
    "        return self.var_name_to_number[name]"
   ]
  },
  {
   "cell_type": "code",
   "execution_count": 9,
   "metadata": {},
   "outputs": [],
   "source": [
    "\n",
    "def minisat_solve(problem_name, problem_dimacs, number_to_var):\n",
    "    with open(f'{problem_name}.cnf', 'w') as handle:\n",
    "        handle.write(problem_dimacs)\n",
    "    os.system(f'minisat {problem_name}.cnf {problem_name}_result.cnf')\n",
    "\n",
    "    with open(f'{problem_name}_result.cnf', 'r') as result_file:\n",
    "        lines = result_file.readlines()\n",
    "\n",
    "    if lines[0].startswith('SAT'):\n",
    "        print('SAT')\n",
    "        var_values = {}\n",
    "        for var in lines[1].split(' ')[:-1]:\n",
    "            var_number = int(var.strip('-'))\n",
    "            var_name = number_to_var[var_number]\n",
    "            var_values[var_name] = 0 if var.startswith('-') else 1\n",
    "        true_vars = list(filter(lambda v: v[1] == 1, var_values.items()))\n",
    "        true_vars.sort()\n",
    "        for var in true_vars:\n",
    "            print(var)\n",
    "    else:\n",
    "        print('UNSAT')"
   ]
  },
  {
   "cell_type": "code",
   "execution_count": 1,
   "metadata": {},
   "outputs": [],
   "source": [
    "\n",
    "def solve(n):\n",
    "    # STUDENTSKI KOD\n",
    "    pass \n",
    "\n",
    "    minisat_solve(f'{n}_queens', cnf.dimacs(), cnf.number_to_var_name)"
   ]
  }
 ],
 "metadata": {
  "kernelspec": {
   "display_name": "Python 3",
   "language": "python",
   "name": "python3"
  },
  "language_info": {
   "codemirror_mode": {
    "name": "ipython",
    "version": 3
   },
   "file_extension": ".py",
   "mimetype": "text/x-python",
   "name": "python",
   "nbconvert_exporter": "python",
   "pygments_lexer": "ipython3",
   "version": "3.8.10"
  }
 },
 "nbformat": 4,
 "nbformat_minor": 5
}
