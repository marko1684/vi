{
 "cells": [
  {
   "cell_type": "code",
   "execution_count": null,
   "metadata": {},
   "outputs": [],
   "source": [
    "x, y, z = Reals('x y z')\n",
    "s = Solver()\n",
    "s.add(x > 1, y > 1, x + y > 3, z - x < 10)\n",
    "print(s.check())\n",
    "\n",
    "m = s.model()\n",
    "print(\"x = %s\" % m[x])\n",
    "\n",
    "print(\"traversing model...\")\n",
    "for d in m.decls():\n",
    "    print(\"%s = %s\" % (d.name(), m[d]))"
   ]
  },
  {
   "cell_type": "code",
   "execution_count": 11,
   "metadata": {
    "scrolled": true
   },
   "outputs": [
    {
     "name": "stdout",
     "output_type": "stream",
     "text": [
      "[y = 20000000000000001, x = -9999979999999999999999]\n",
      "2**(1/2) + 3**(1/2)\n",
      "3.1462643699?\n",
      "(root-obj (+ (^ x 4) (* (- 10) (^ x 2)) 1) 4)\n",
      "(+ x (* (^ y (/ 1.0 2.0)) 2.0))\n"
     ]
    }
   ],
   "source": [
    "x, y = Reals('x y')\n",
    "solve(x + 10000000000000000000000 == y, y > 20000000000000000)\n",
    "\n",
    "print(Sqrt(2) + Sqrt(3))\n",
    "print(simplify(Sqrt(2) + Sqrt(3)))\n",
    "print(simplify(Sqrt(2) + Sqrt(3)).sexpr())\n",
    "# The sexpr() method is available for any Z3 expression\n",
    "print((x + Sqrt(y) * 2).sexpr())\n",
    "\n"
   ]
  },
  {
   "cell_type": "markdown",
   "metadata": {},
   "source": [
    "# Funkcije\n",
    "\n",
    "Za razliku od programskih jezika, gde funkcije imaju sporedne efekte, mogu da generišu izuzetke ili se nikada ne vraćaju, funkcije u Z3 nemaju neželjene efekte i potpune su. To jest, oni su definisani na svim ulaznim vrednostima. Ovo uključuje funkcije, kao što je podela. Z3 je zasnovan na logici prvog reda.\n",
    "\n",
    "S obzirom na ograničenja kao što je k + i > 3, rekli smo da su k i i promenljive. U mnogim udžbenicima, k i i se nazivaju neprotumačenim konstantama. To jest, oni dozvoljavaju svako tumačenje koje je u skladu sa ograničenjem k + i > 3.\n",
    "\n",
    "Tačnije, funkcijski i konstantni simboli u čistoj logici prvog reda su neinterpretirani ili slobodni, što znači da nije priloženo nikakvo apriorno tumačenje. Ovo je u suprotnosti sa funkcijama koje pripadaju potpisu teorija, kao što je aritmetika gde funkcija + ima fiksnu standardnu interpretaciju (dodaje dva broja). Neinterpretirane funkcije i konstante su maksimalno fleksibilne; dozvoljavaju svako tumačenje koje je u skladu sa ograničenjima funkcije ili konstante.\n",
    "\n",
    "Da bismo ilustrovali neinterpretirane funkcije i konstante, hajde da koristimo neinterpretirane celobrojne konstante (aka promenljive) k, i. Konačno, neka f bude neinterpretirana funkcija koja uzima jedan argument tipa (aka sortiranje) celog broja i rezultira celobrojnom vrednošću. Primer ilustruje kako se može forsirati interpretacija gde f primenjen dvaput na k ponovo dovodi do k, ali f primenjen jednom na k se razlikuje od k."
   ]
  },
  {
   "cell_type": "code",
   "execution_count": 12,
   "metadata": {},
   "outputs": [
    {
     "name": "stdout",
     "output_type": "stream",
     "text": [
      "[x = 0, y = 1, f = [1 -> 0, else -> 1]]\n"
     ]
    }
   ],
   "source": [
    "\n",
    "\n",
    "x = Int('x')\n",
    "y = Int('y')\n",
    "f = Function('f', IntSort(), IntSort())\n",
    "solve(f(f(x)) == x, f(x) == y, x != y)\n",
    "\n"
   ]
  },
  {
   "cell_type": "markdown",
   "metadata": {},
   "source": [
    "Rešenje (interpretacija) za f treba čitati kao f(0) je 1, f(1) je 0,\n",
    "\n",
    "i f(a) je 1 za sve različite od 0 i 1."
   ]
  },
  {
   "cell_type": "code",
   "execution_count": 13,
   "metadata": {},
   "outputs": [
    {
     "name": "stdout",
     "output_type": "stream",
     "text": [
      "sat\n",
      "f(f(x)) = 0\n",
      "f(x)    = 1\n"
     ]
    }
   ],
   "source": [
    "x = Int('x')\n",
    "y = Int('y')\n",
    "f = Function('f', IntSort(), IntSort())\n",
    "s = Solver()\n",
    "s.add(f(f(x)) == x, f(x) == y, x != y)\n",
    "print(s.check())\n",
    "m = s.model()\n",
    "print(\"f(f(x)) =\", m.evaluate(f(f(x))))\n",
    "print(\"f(x)    =\", m.evaluate(f(x)))"
   ]
  },
  {
   "cell_type": "code",
   "execution_count": 14,
   "metadata": {},
   "outputs": [
    {
     "name": "stdout",
     "output_type": "stream",
     "text": [
      "sat\n",
      "f(f(x)) = 0\n",
      "f(x)    = 1\n"
     ]
    }
   ],
   "source": [
    "#In Z3, we can also evaluate expressions in the model for a system of constraints. The following example shows how to use the evaluate method.\n",
    "\n",
    "x = Int('x')\n",
    "y = Int('y')\n",
    "f = Function('f', IntSort(), IntSort())\n",
    "s = Solver()\n",
    "s.add(f(f(x)) == x, f(x) == y, x != y)\n",
    "print(s.check())\n",
    "m = s.model()\n",
    "print(\"f(f(x)) =\", m.evaluate(f(f(x))))\n",
    "print(\"f(x)    =\", m.evaluate(f(x)))"
   ]
  },
  {
   "cell_type": "markdown",
   "metadata": {},
   "source": [
    "# Sudoku"
   ]
  },
  {
   "cell_type": "code",
   "execution_count": 2,
   "metadata": {},
   "outputs": [
    {
     "name": "stdout",
     "output_type": "stream",
     "text": [
      "[[7, 1, 5, 8, 9, 4, 6, 3, 2],\n",
      " [2, 3, 4, 5, 1, 6, 8, 9, 7],\n",
      " [6, 8, 9, 7, 2, 3, 1, 4, 5],\n",
      " [4, 9, 3, 6, 5, 7, 2, 1, 8],\n",
      " [8, 6, 7, 2, 3, 1, 9, 5, 4],\n",
      " [1, 5, 2, 4, 8, 9, 7, 6, 3],\n",
      " [3, 7, 6, 1, 4, 8, 5, 2, 9],\n",
      " [9, 2, 8, 3, 6, 5, 4, 7, 1],\n",
      " [5, 4, 1, 9, 7, 2, 3, 8, 6]]\n"
     ]
    }
   ],
   "source": [
    "from z3 import *\n",
    "\n",
    "\n",
    "X = [ [ Int(\"x_%s_%s\" % (i+1, j+1)) for j in range(9) ] \n",
    "      for i in range(9) ]\n",
    "\n",
    "\n",
    "cells_c  = [ And(1 <= X[i][j], X[i][j] <= 9) \n",
    "             for i in range(9) for j in range(9) ]\n",
    "\n",
    "\n",
    "rows_c   = [ Distinct(X[i]) for i in range(9) ]\n",
    "\n",
    "\n",
    "cols_c   = [ Distinct([ X[i][j] for i in range(9) ]) \n",
    "             for j in range(9) ]\n",
    "\n",
    "sq_c     = [ Distinct([ X[3*i0 + i][3*j0 + j] \n",
    "                        for i in range(3) for j in range(3) ]) \n",
    "             for i0 in range(3) for j0 in range(3) ]\n",
    "\n",
    "sudoku_c = cells_c + rows_c + cols_c + sq_c\n",
    "\n",
    "instance = ((0,0,0,0,9,4,0,3,0),\n",
    "            (0,0,0,5,1,0,0,0,7),\n",
    "            (0,8,9,0,0,0,0,4,0),\n",
    "            (0,0,0,0,0,0,2,0,8),\n",
    "            (0,6,0,2,0,1,0,5,0),\n",
    "            (1,0,2,0,0,0,0,0,0),\n",
    "            (0,7,0,0,0,0,5,2,0),\n",
    "            (9,0,0,0,6,5,0,0,0),\n",
    "            (0,4,0,9,7,0,0,0,0))\n",
    "\n",
    "instance_c = [ If(instance[i][j] == 0, \n",
    "                  True, \n",
    "                  X[i][j] == instance[i][j]) \n",
    "               for i in range(9) for j in range(9) ]\n",
    "\n",
    "s = Solver()\n",
    "s.add(sudoku_c + instance_c)\n",
    "if s.check() == sat:\n",
    "    m = s.model()\n",
    "    r = [ [ m.evaluate(X[i][j]) for j in range(9) ] \n",
    "          for i in range(9) ]\n",
    "    print_matrix(r)\n",
    "else:\n",
    "    print(\"failed to solve\")"
   ]
  },
  {
   "cell_type": "markdown",
   "metadata": {},
   "source": [
    "# Predikatska logika"
   ]
  },
  {
   "cell_type": "code",
   "execution_count": null,
   "metadata": {},
   "outputs": [],
   "source": [
    "# all humans are mortal\n",
    "# Socrates is a human\n",
    "# so Socrates mortal \n",
    "############################################\n",
    "\n",
    "from z3 import *\n",
    "\n",
    "Object = DeclareSort('Object')\n",
    "\n",
    "Human = Function('Human', Object, BoolSort())\n",
    "Mortal = Function('Mortal', Object, BoolSort())\n",
    "\n",
    "# a well known philosopher \n",
    "socrates = Const('socrates', Object)\n",
    "\n",
    "# free variables used in forall must be declared Const in python\n",
    "x = Const('x', Object)\n",
    "\n",
    "axioms = [ForAll([x], Implies(Human(x), Mortal(x))), \n",
    "          Human(socrates)]\n",
    "\n",
    "\n",
    "s = Solver()\n",
    "s.add(axioms)\n",
    "\n",
    "print(s.check()) # prints sat so axioms are coherent\n",
    "\n",
    "# classical refutation\n",
    "s.add(Not(Mortal(socrates)))\n",
    "\n",
    "print(s.check()) # prints unsat so socrates is Mortal"
   ]
  },
  {
   "cell_type": "code",
   "execution_count": 16,
   "metadata": {},
   "outputs": [
    {
     "name": "stdout",
     "output_type": "stream",
     "text": [
      "sat\n"
     ]
    }
   ],
   "source": [
    "# Dve nemimoilazne prave se seku ili su paralelne.\n",
    "# Prave koje se seku leže u istoj ravni.\n",
    "# Prave koje su paralelene leže u istoj ravni.\n",
    "# Dve nemimoilazne prave leže u istoj ravni.\n",
    "\n",
    "# m(X,Y) - X i Y su nemimoilazne: m: PxP -> B\n",
    "# s(X,Y) - X i Y se seku: s: PxP -> B\n",
    "# p(X,Y) - X i Y su paralelne: p: PxP -> B\n",
    "# r(X,Y) - X i Y leze u istoj ravni: r: PxP -> B\n",
    "\n",
    "B = BoolSort()\n",
    "P = DeclareSort('Prave')\n",
    "m = Function('m', P, P, B)\n",
    "s = Function('s', P, P, B)\n",
    "p = Function('p', P, P, B)\n",
    "r = Function('r', P, P, B)\n",
    "\n",
    "x, y = Consts('x y', P)\n",
    "\n",
    "solver = Solver()\n",
    "axioms = [\n",
    "    ForAll([x,y], Implies(m(x,y), Or(s(x,y), p(x,y)))),\n",
    "    ForAll([x,y], Implies(s(x,y), r(x,y))),\n",
    "    ForAll([x,y], Implies(p(x,y), r(x,y)))\n",
    "]\n",
    "conjecture = ForAll([x,y], Implies(m(x,y), r(x,y)))\n",
    "\n",
    "solver.add(conjecture)\n",
    "\n",
    "print(solver.check(axioms))\n",
    "\n"
   ]
  },
  {
   "cell_type": "code",
   "execution_count": 17,
   "metadata": {},
   "outputs": [
    {
     "data": {
      "text/html": [
       "<b>unsat</b>"
      ],
      "text/plain": [
       "unsat"
      ]
     },
     "execution_count": 17,
     "metadata": {},
     "output_type": "execute_result"
    }
   ],
   "source": [
    "# Svaka dva brata imaju zajedničkog roditelja.\n",
    "# Roditelj je stariji od deteta.\n",
    "# Postoje braća.\n",
    "# Ni jedna osoba nije starija od druge.\n",
    "\n",
    "# b: OxO -> B\n",
    "\n",
    "B = BoolSort()\n",
    "O = DeclareSort('Osoba')\n",
    "\n",
    "b = Function('braca', O, O, B)\n",
    "r = Function('roditelj', O, O, B)\n",
    "s = Function('stariji', O, O, B)\n",
    "\n",
    "x,y,z = Consts('x y z', O)\n",
    "\n",
    "solver = Solver()\n",
    "axioms = [\n",
    "    ForAll([x,y], Exists([z], Implies(b(x,y), And(r(z,x), r(z,y))))),\n",
    "    ForAll([x,y], Implies(r(x,y), s(x,y))),\n",
    "    Exists([x,y], b(x,y))\n",
    "]\n",
    "conjecture = ForAll([x,y], Not(s(x,y)))\n",
    "\n",
    "solver.add(conjecture)\n",
    "solver.check(axioms)"
   ]
  },
  {
   "cell_type": "markdown",
   "metadata": {},
   "source": [
    "# Uprošćavanje izraza"
   ]
  },
  {
   "cell_type": "code",
   "execution_count": 5,
   "metadata": {},
   "outputs": [
    {
     "name": "stdout",
     "output_type": "stream",
     "text": [
      "3 + 3*x + y\n",
      "Not(y <= -2)\n",
      "And(x >= 2, 2*x**2 + y**2 >= 3)\n"
     ]
    }
   ],
   "source": [
    "x = Int('x')\n",
    "y = Int('y')\n",
    "print(simplify(x + y + 2*x + 3))\n",
    "print(simplify(x < y + x + 2))\n",
    "print(simplify(And(x + 1 >= 3, x**2 + x**2 + y**2 + 2 >= 5))) \n",
    "\n"
   ]
  },
  {
   "cell_type": "markdown",
   "metadata": {},
   "source": [
    "# Šta Z3 ne može da uradi"
   ]
  },
  {
   "cell_type": "markdown",
   "metadata": {},
   "source": [
    "Z3 deluje neverovatno moćno, i jeste. Međutim, pomoću Z3 rešavača možemo izraziti mnogo više stvari nego što on može da reši.\n",
    "\n",
    "Na primer, faktorisanje celih brojeva je suština RSA kriptografije. Dok Z3 može faktorisati cele brojeve, ne može magično faktorisati čak ni umereno velike brojeve."
   ]
  },
  {
   "cell_type": "code",
   "execution_count": 6,
   "metadata": {},
   "outputs": [
    {
     "name": "stdout",
     "output_type": "stream",
     "text": [
      "[x = 7, y = 3]\n"
     ]
    }
   ],
   "source": [
    "x,y = Ints(\"x y\")\n",
    "pubkey = 3\t* 7\n",
    "solve(x * y == pubkey, x > 1, y > 1) # easy peasy"
   ]
  },
  {
   "cell_type": "code",
   "execution_count": 7,
   "metadata": {},
   "outputs": [
    {
     "name": "stdout",
     "output_type": "stream",
     "text": [
      "failed to solve\n"
     ]
    }
   ],
   "source": [
    "x,y = Ints(\"x y\")\n",
    "pubkey = 1000000993\t* 1000001011\n",
    "solve(x * y == pubkey, x > 1, y > 1) # nope\n"
   ]
  },
  {
   "cell_type": "markdown",
   "metadata": {},
   "source": [
    "Nelinearne jednačine će generalno biti teške. Nije nemoguće, ali teško. Z3 odmah odustaje ako pokušate da pronađete rešenje za naizgled rešiv problem koji uključuje eksponencijal. Z3 takođe ne može da razume sinuse, kosinuse i logaritme. Glavni izuzetak su ograničenja polinomske jednakosti, za koje z3 ima suštinsko razumevanje, međutim ove rutine mogu biti računski skupe."
   ]
  },
  {
   "cell_type": "code",
   "execution_count": null,
   "metadata": {},
   "outputs": [],
   "source": [
    "x = Real('x')\n",
    "s = Solver()\n",
    "s.add(2**x == 3)\n",
    "print(s.check())\n"
   ]
  },
  {
   "cell_type": "markdown",
   "metadata": {},
   "source": [
    "# Dokazati = Nema kontraprimera"
   ]
  },
  {
   "cell_type": "markdown",
   "metadata": {},
   "source": [
    "Do sada smo koristili z3 da bismo pronašli rešenja za skup ograničenja/formula. Z3 je toliko efikasan u ovom procesu da može biti iscrpan i znati kada nema rešenja za pronalaženje. Ovo je korisno za dokazivanje teorema. Ako navedemo teoremu kao što je `Implies(And(p,k),p)` koja mora biti tačna za bilo koju vrednost p i k, možemo dokazati njenu istinitost tako što ćemo iscrpno tražiti kontraprimer i ne uspeti da ga pronađemo. Kontraprimer je dodeljivanje promenljivih za koje je interpretacija teoreme netačna, ili ekvivalentno za koje negacija Not(th) interpretira tačno.\n",
    "\n",
    "solver.check() može da se vrati\n",
    "\n",
    " sat - \"Našao sam rešenje. Možete ga tražiti pomoću solver.model()\"\n",
    " nepoznato - Ovo znači \"Odustajem\". Možda negde postoji rešenje, a možda i ne.\n",
    " unsat - \"ZNAM da nema rešenja. SVE sam probao\".\n",
    "\n",
    "Evo pojednostavljene (čak ni za toliko) verzije dokaza funkcije pogodnosti Z3 u kojoj kao dokaz izvodimo negaciju i interpretaciju nesatnih.\n"
   ]
  },
  {
   "cell_type": "code",
   "execution_count": 8,
   "metadata": {},
   "outputs": [],
   "source": [
    "def prove2(f): # pojednostavljena verzija z3pi funkcije \"dokaži\"\n",
    "    s = Solver()\n",
    "    s.add(Not(f))\n",
    "    if s.check() == unsat:\n",
    "        print(\"proved\")\n",
    "    else:\n",
    "        print(\"failed to prove\")  "
   ]
  },
  {
   "cell_type": "markdown",
   "metadata": {},
   "source": [
    "# Dokazivanje u iskaznoj logici"
   ]
  },
  {
   "cell_type": "code",
   "execution_count": null,
   "metadata": {},
   "outputs": [],
   "source": [
    "p, q = Bools('p q')\n",
    "print(And(p,q))\n",
    "print(Or(p,q))\n",
    "print(Xor(p,q))\n",
    "print(Not(p))\n",
    "print(Implies(p,q))\n",
    "print(p == q)\n",
    "\n",
    "\n",
    "my_true_thm = Implies(And(p,q), p)\n",
    "prove(my_true_thm)"
   ]
  },
  {
   "cell_type": "markdown",
   "metadata": {},
   "source": [
    "\n",
    "Za vežbu\n",
    "\n",
    "Dokazati:\n",
    "\n",
    "    De Morgan's Law p & q == ~ (~p | ~q)\n",
    "    p -> q == ~ p | q\n",
    "    Peirce's Law ((p -> q) -> p) -> p is always true\n",
    "\n"
   ]
  },
  {
   "cell_type": "code",
   "execution_count": 15,
   "metadata": {},
   "outputs": [
    {
     "name": "stdout",
     "output_type": "stream",
     "text": [
      "And(p, q) == Not(Or(Not(p), Not(q)))\n",
      "Proving demorgan...\n",
      "proved\n"
     ]
    }
   ],
   "source": [
    "p, q = Bools('p q')\n",
    "demorgan = And(p, q) == Not(Or(Not(p), Not(q)))\n",
    "print(demorgan)\n",
    "\n",
    "def prove(f):\n",
    "    s = Solver()\n",
    "    s.add(Not(f))\n",
    "    if s.check() == unsat:\n",
    "        print(\"proved\")\n",
    "    else:\n",
    "        print(\"failed to prove\")\n",
    "\n",
    "print(\"Proving demorgan...\")\n",
    "prove(demorgan)\n",
    "\n"
   ]
  }
 ],
 "metadata": {
  "kernelspec": {
   "display_name": "Python 3",
   "language": "python",
   "name": "python3"
  },
  "language_info": {
   "codemirror_mode": {
    "name": "ipython",
    "version": 3
   },
   "file_extension": ".py",
   "mimetype": "text/x-python",
   "name": "python",
   "nbconvert_exporter": "python",
   "pygments_lexer": "ipython3",
   "version": "3.8.10"
  }
 },
 "nbformat": 4,
 "nbformat_minor": 4
}
