{
 "cells": [
  {
   "cell_type": "markdown",
   "metadata": {},
   "source": [
    "# Z3 solver\n",
    "https://github.com/Z3Prover/z3\n",
    "\n",
    "Instalacija:  \n",
    "`sudo apt-get install z3`  \n",
    "`pip install z3-solver`"
   ]
  },
  {
   "cell_type": "code",
   "execution_count": 1,
   "metadata": {},
   "outputs": [],
   "source": [
    "from z3 import *"
   ]
  },
  {
   "cell_type": "code",
   "execution_count": 14,
   "metadata": {},
   "outputs": [
    {
     "name": "stdout",
     "output_type": "stream",
     "text": [
      "[A = True, D = True, B = False, C = False]\n",
      "[A = False, D = False, B = True, C = True]\n"
     ]
    }
   ],
   "source": [
    "# U iskaznoj logici zapisati uslov da je 4-bitna reprezentacija broja\n",
    "# palindrom, ali da nisu svi bitovi isti.\n",
    "\n",
    "A,B,C,D = Bools('A B C D')\n",
    "\n",
    "s = Solver()\n",
    "s.add(A == D, B == C, Not(And(A == B, B == C, C == D)))\n",
    "\n",
    "if s.check() == sat:\n",
    "    print(s.model())"
   ]
  },
  {
   "cell_type": "code",
   "execution_count": null,
   "metadata": {},
   "outputs": [],
   "source": [
    "A,B,C,D = Bools('A B C D')\n",
    "\n",
    "s = Solver()\n",
    "s.add(A == D, B == C, Not(And(A == B, B == C, C == D)))\n",
    "\n",
    "while s.check() == sat:\n",
    "    print(s.model())\n",
    "    # Ispis svih modela. U ogranicenje dodamo negaciju prethodnog resenja.\n",
    "    # s.model()[A] -> vrednost promenljive A u poslednjem modelu koji zadovoljava ogranicenja\n",
    "    s.add(Not(And(A == s.model()[A], B == s.model()[B], C == s.model()[C], D == s.model()[D])))"
   ]
  },
  {
   "cell_type": "code",
   "execution_count": 12,
   "metadata": {},
   "outputs": [
    {
     "name": "stdout",
     "output_type": "stream",
     "text": [
      "[y = 7/4, x = 1/2, z = 7/4]\n"
     ]
    },
    {
     "data": {
      "text/html": [
       "7/4"
      ],
      "text/plain": [
       "7/4"
      ]
     },
     "execution_count": 12,
     "metadata": {},
     "output_type": "execute_result"
    }
   ],
   "source": [
    "x, y, z = Reals('x y z')\n",
    "\n",
    "s = Solver()\n",
    "s.add(\n",
    "    x + 5*y - 3*z == 4, # 1/2 +  7/2 = 8/2 = 4\n",
    "    -x + y + z == 3,\n",
    "    2*x + y - z == 1\n",
    ")\n",
    "\n",
    "if s.check() == sat:\n",
    "    print(s.model())"
   ]
  },
  {
   "cell_type": "code",
   "execution_count": 12,
   "metadata": {},
   "outputs": [
    {
     "name": "stdout",
     "output_type": "stream",
     "text": [
      "sat\n",
      "x = 3/2\n",
      "traversing model...\n",
      "y = 2\n",
      "x = 3/2\n",
      "z = 0\n"
     ]
    }
   ],
   "source": [
    "x, y, z = Reals('x y z')\n",
    "s = Solver()\n",
    "s.add(x > 1, y > 1, x + y > 3, z - x < 10)\n",
    "print(s.check())\n",
    "\n",
    "m = s.model()\n",
    "print(\"x = %s\" % m[x])\n",
    "\n",
    "print(\"traversing model...\")\n",
    "for d in m.decls():\n",
    "    print(\"%s = %s\" % (d.name(), m[d]))"
   ]
  },
  {
   "cell_type": "markdown",
   "metadata": {},
   "source": [
    "# Uprošćavanje izraza"
   ]
  },
  {
   "cell_type": "code",
   "execution_count": 13,
   "metadata": {},
   "outputs": [
    {
     "name": "stdout",
     "output_type": "stream",
     "text": [
      "[y = 20000000000000001, x = -9999979999999999999999]\n",
      "2**(1/2) + 3**(1/2)\n",
      "3.1462643699?\n",
      "(root-obj (+ (^ x 4) (* (- 10) (^ x 2)) 1) 4)\n",
      "(+ x (* (^ y (/ 1.0 2.0)) 2.0))\n"
     ]
    }
   ],
   "source": [
    "x, y = Reals('x y')\n",
    "solve(x + 10000000000000000000000 == y, y > 20000000000000000)\n",
    "\n",
    "print(Sqrt(2) + Sqrt(3))\n",
    "print(simplify(Sqrt(2) + Sqrt(3)))\n",
    "print(simplify(Sqrt(2) + Sqrt(3)).sexpr())\n",
    "# The sexpr() method is available for any Z3 expression\n",
    "print((x + Sqrt(y) * 2).sexpr())\n",
    "\n"
   ]
  },
  {
   "cell_type": "code",
   "execution_count": null,
   "metadata": {},
   "outputs": [],
   "source": [
    "x = Int('x')\n",
    "y = Int('y')\n",
    "print(simplify(x + y + 2*x + 3))\n",
    "print(simplify(x < y + x + 2))\n",
    "print(simplify(And(x + 1 >= 3, x**2 + x**2 + y**2 + 2 >= 5))) \n",
    "\n"
   ]
  },
  {
   "cell_type": "code",
   "execution_count": 23,
   "metadata": {},
   "outputs": [
    {
     "name": "stdout",
     "output_type": "stream",
     "text": [
      "[Q_3 = 6,\n",
      " Q_1 = 1,\n",
      " Q_7 = 0,\n",
      " Q_5 = 7,\n",
      " Q_4 = 2,\n",
      " Q_0 = 4,\n",
      " Q_2 = 3,\n",
      " Q_6 = 5]\n"
     ]
    }
   ],
   "source": [
    "#Bool p_i_j - Na polju (i,j) se nalazi dama\n",
    "#Int Q_{i} -> Broj kolone u kojoj se nalazi dama u i-tom redu\n",
    "# Q_4 = 3 -> U cetvrtom redu, dama se nalazi na trecoj koloni\n",
    "\n",
    "# Q_3 = 2, Q_4 = 2\n",
    "\n",
    "n = 8\n",
    "Q = [Int(f'Q_{i}') for i in range(n)]\n",
    "\n",
    "val_c = [And(0 <= q, q < n) for q in Q]\n",
    "col_c = [Distinct(Q)]\n",
    "diag_c = [\n",
    "    And(Q[i] - Q[j] != i - j, Q[i] - Q[j] != j - i) \n",
    "    for i in range(n) for j in range(i) if i != j\n",
    "]\n",
    "\n",
    "n_queens = val_c + col_c + diag_c\n",
    "\n",
    "solve(n_queens)"
   ]
  },
  {
   "cell_type": "markdown",
   "metadata": {},
   "source": [
    "# Sudoku\n",
    "za samostalan rad"
   ]
  },
  {
   "cell_type": "code",
   "execution_count": null,
   "metadata": {},
   "outputs": [],
   "source": [
    "from z3 import *\n",
    "\n",
    "\n",
    "X = [ [ Int(\"x_%s_%s\" % (i+1, j+1)) for j in range(9) ] \n",
    "      for i in range(9) ]\n",
    "\n",
    "\n",
    "cells_c  = [ And(1 <= X[i][j], X[i][j] <= 9) \n",
    "             for i in range(9) for j in range(9) ]\n",
    "\n",
    "\n",
    "rows_c   = [ Distinct(X[i]) for i in range(9) ]\n",
    "\n",
    "\n",
    "cols_c   = [ Distinct([ X[i][j] for i in range(9) ]) \n",
    "             for j in range(9) ]\n",
    "\n",
    "sq_c     = [ Distinct([ X[3*i0 + i][3*j0 + j] \n",
    "                        for i in range(3) for j in range(3) ]) \n",
    "             for i0 in range(3) for j0 in range(3) ]\n",
    "\n",
    "sudoku_c = cells_c + rows_c + cols_c + sq_c\n",
    "\n",
    "instance = ((0,0,0,0,9,4,0,3,0),\n",
    "            (0,0,0,5,1,0,0,0,7),\n",
    "            (0,8,9,0,0,0,0,4,0),\n",
    "            (0,0,0,0,0,0,2,0,8),\n",
    "            (0,6,0,2,0,1,0,5,0),\n",
    "            (1,0,2,0,0,0,0,0,0),\n",
    "            (0,7,0,0,0,0,5,2,0),\n",
    "            (9,0,0,0,6,5,0,0,0),\n",
    "            (0,4,0,9,7,0,0,0,0))\n",
    "\n",
    "instance_c = [ If(instance[i][j] == 0, \n",
    "                  True, \n",
    "                  X[i][j] == instance[i][j]) \n",
    "               for i in range(9) for j in range(9) ]\n",
    "\n",
    "s = Solver()\n",
    "s.add(sudoku_c + instance_c)\n",
    "if s.check() == sat:\n",
    "    m = s.model()\n",
    "    r = [ [ m.evaluate(X[i][j]) for j in range(9) ] \n",
    "          for i in range(9) ]\n",
    "    print_matrix(r)\n",
    "else:\n",
    "    print(\"failed to solve\")"
   ]
  },
  {
   "cell_type": "markdown",
   "metadata": {},
   "source": [
    "# Funkcije "
   ]
  },
  {
   "cell_type": "code",
   "execution_count": 15,
   "metadata": {},
   "outputs": [
    {
     "name": "stdout",
     "output_type": "stream",
     "text": [
      "[x = 0, y = 1, f = [1 -> 0, else -> 1]]\n"
     ]
    }
   ],
   "source": [
    "x = Int('x')\n",
    "y = Int('y')\n",
    "f = Function('f', IntSort(), IntSort())\n",
    "solve(f(f(x)) == x, f(x) == y, x != y)"
   ]
  },
  {
   "cell_type": "code",
   "execution_count": 16,
   "metadata": {},
   "outputs": [
    {
     "name": "stdout",
     "output_type": "stream",
     "text": [
      "sat\n",
      "f(f(x)) = 0\n",
      "f(x)    = 1\n"
     ]
    }
   ],
   "source": [
    "x = Int('x')\n",
    "y = Int('y')\n",
    "f = Function('f', IntSort(), IntSort())\n",
    "s = Solver()\n",
    "s.add(f(f(x)) == x, f(x) == y, x != y)\n",
    "print(s.check())\n",
    "m = s.model()\n",
    "print(\"f(f(x)) =\", m.evaluate(f(f(x))))\n",
    "print(\"f(x)    =\", m.evaluate(f(x)))"
   ]
  },
  {
   "cell_type": "markdown",
   "metadata": {},
   "source": [
    "# Predikatska logika"
   ]
  },
  {
   "cell_type": "code",
   "execution_count": 9,
   "metadata": {},
   "outputs": [
    {
     "name": "stdout",
     "output_type": "stream",
     "text": [
      "Conjecture proved!\n"
     ]
    }
   ],
   "source": [
    "# all humans are mortal\n",
    "# Socrates is a human\n",
    "# so Socrates mortal \n",
    "############################################\n",
    "\n",
    "from z3 import *\n",
    "\n",
    "Object = DeclareSort('Object')\n",
    "\n",
    "Human = Function('Human', Object, BoolSort())\n",
    "Mortal = Function('Mortal', Object, BoolSort())\n",
    "\n",
    "# a well known philosopher \n",
    "socrates = Const('socrates', Object)\n",
    "\n",
    "# free variables used in forall must be declared Const in python\n",
    "x = Const('x', Object)\n",
    "\n",
    "axioms = [ForAll([x], Implies(Human(x), Mortal(x))), \n",
    "          Human(socrates)]\n",
    "\n",
    "\n",
    "solver = Solver()\n",
    "solver.add(axioms)\n",
    "\n",
    "if solver.check() == sat:\n",
    "    conjecture = Mortal(socrates)\n",
    "    solver.add(Not(conjecture))\n",
    "    if solver.check() == unsat:\n",
    "        print('Conjecture proved!')\n",
    "else:\n",
    "    print('contradicting axioms')\n",
    "    \n",
    "# classical refutation\n"
   ]
  },
  {
   "cell_type": "code",
   "execution_count": 7,
   "metadata": {},
   "outputs": [
    {
     "name": "stdout",
     "output_type": "stream",
     "text": [
      "Conjecture proved!\n"
     ]
    }
   ],
   "source": [
    "# Dve nemimoilazne prave se seku ili su paralelne.\n",
    "# Prave koje se seku leže u istoj ravni.\n",
    "# Prave koje su paralelene leže u istoj ravni.\n",
    "# Dve nemimoilazne prave leže u istoj ravni.\n",
    "\n",
    "# m(X,Y) - X i Y su nemimoilazne: m: PxP -> B\n",
    "# s(X,Y) - X i Y se seku: s: PxP -> B\n",
    "# p(X,Y) - X i Y su paralelne: p: PxP -> B\n",
    "# r(X,Y) - X i Y leze u istoj ravni: r: PxP -> B\n",
    "\n",
    "B = BoolSort()\n",
    "P = DeclareSort('Prave')\n",
    "m = Function('m', P, P, B)\n",
    "s = Function('s', P, P, B)\n",
    "p = Function('p', P, P, B)\n",
    "r = Function('r', P, P, B)\n",
    "\n",
    "x, y = Consts('x y', P)\n",
    "\n",
    "solver = Solver()\n",
    "axioms = [\n",
    "    ForAll([x,y], Implies(m(x,y), Or(s(x,y), p(x,y)))),\n",
    "    ForAll([x,y], Implies(s(x,y), r(x,y))),\n",
    "    ForAll([x,y], Implies(p(x,y), r(x,y)))\n",
    "]\n",
    "\n",
    "solver.add(axioms)\n",
    "\n",
    "if solver.check() == sat:\n",
    "    conjecture = ForAll([x,y], Implies(m(x,y), r(x,y)))\n",
    "    solver.add(Not(conjecture))\n",
    "    if solver.check() == unsat:\n",
    "        print('Conjecture proved!')\n",
    "else:\n",
    "    print('contradicting axioms')"
   ]
  },
  {
   "cell_type": "code",
   "execution_count": 11,
   "metadata": {},
   "outputs": [],
   "source": [
    "# Svaka dva brata imaju zajedničkog roditelja.\n",
    "# Roditelj je stariji od deteta.\n",
    "# Postoje braća.\n",
    "# Ni jedna osoba nije starija od druge.\n",
    "\n",
    "# b: OxO -> B\n",
    "\n",
    "B = BoolSort()\n",
    "O = DeclareSort('Osoba')\n",
    "\n",
    "b = Function('braca', O, O, B)\n",
    "r = Function('roditelj', O, O, B)\n",
    "s = Function('stariji', O, O, B)\n",
    "\n",
    "x,y,z = Consts('x y z', O)\n",
    "\n",
    "solver = Solver()\n",
    "axioms = [\n",
    "    ForAll([x,y], Exists([z], Implies(b(x,y), And(r(z,x), r(z,y))))),\n",
    "    ForAll([x,y], Implies(r(x,y), s(x,y))),\n",
    "    Exists([x,y], b(x,y))\n",
    "]\n",
    "\n",
    "if solver.check() == sat:\n",
    "    conjecture = ForAll([x,y], Not(s(x,y)))\n",
    "    solver.add(Not(conjecture))\n",
    "    if solver.check() == unsat:\n",
    "        print('Conjecture proved!')\n",
    "else:\n",
    "    print('contradicting axioms')"
   ]
  },
  {
   "cell_type": "code",
   "execution_count": null,
   "metadata": {},
   "outputs": [],
   "source": []
  }
 ],
 "metadata": {
  "kernelspec": {
   "display_name": "Python 3",
   "language": "python",
   "name": "python3"
  },
  "language_info": {
   "codemirror_mode": {
    "name": "ipython",
    "version": 3
   },
   "file_extension": ".py",
   "mimetype": "text/x-python",
   "name": "python",
   "nbconvert_exporter": "python",
   "pygments_lexer": "ipython3",
   "version": "3.8.10"
  }
 },
 "nbformat": 4,
 "nbformat_minor": 5
}
