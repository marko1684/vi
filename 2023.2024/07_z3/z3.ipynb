{
 "cells": [
  {
   "cell_type": "markdown",
   "metadata": {},
   "source": [
    "# Z3 solver\n",
    "https://github.com/Z3Prover/z3\n",
    "\n",
    "Instalacija:  \n",
    "`sudo apt-get install z3`  \n",
    "`pip install z3-solver`"
   ]
  },
  {
   "cell_type": "code",
   "execution_count": 1,
   "metadata": {},
   "outputs": [],
   "source": [
    "from z3 import *"
   ]
  },
  {
   "cell_type": "code",
   "execution_count": 14,
   "metadata": {},
   "outputs": [
    {
     "name": "stdout",
     "output_type": "stream",
     "text": [
      "[A = True, D = True, B = False, C = False]\n",
      "[A = False, D = False, B = True, C = True]\n"
     ]
    }
   ],
   "source": [
    "# U iskaznoj logici zapisati uslov da je 4-bitna reprezentacija broja\n",
    "# palindrom, ali da nisu svi bitovi isti.\n",
    "\n",
    "A,B,C,D = Bools('A B C D')\n",
    "\n",
    "s = Solver()\n",
    "s.add(A == D, B == C, Not(And(A == B, B == C, C == D)))\n",
    "\n",
    "if s.check() == sat:\n",
    "    print(s.model())"
   ]
  },
  {
   "cell_type": "code",
   "execution_count": null,
   "metadata": {},
   "outputs": [],
   "source": [
    "A,B,C,D = Bools('A B C D')\n",
    "\n",
    "s = Solver()\n",
    "s.add(A == D, B == C, Not(And(A == B, B == C, C == D)))\n",
    "\n",
    "while s.check() == sat:\n",
    "    print(s.model())\n",
    "    # Ispis svih modela. U ogranicenje dodamo negaciju prethodnog resenja.\n",
    "    # s.model()[A] -> vrednost promenljive A u poslednjem modelu koji zadovoljava ogranicenja\n",
    "    s.add(Not(And(A == s.model()[A], B == s.model()[B], C == s.model()[C], D == s.model()[D])))"
   ]
  },
  {
   "cell_type": "code",
   "execution_count": 12,
   "metadata": {},
   "outputs": [
    {
     "name": "stdout",
     "output_type": "stream",
     "text": [
      "[y = 7/4, x = 1/2, z = 7/4]\n"
     ]
    },
    {
     "data": {
      "text/html": [
       "7/4"
      ],
      "text/plain": [
       "7/4"
      ]
     },
     "execution_count": 12,
     "metadata": {},
     "output_type": "execute_result"
    }
   ],
   "source": [
    "x, y, z = Reals('x y z')\n",
    "\n",
    "s = Solver()\n",
    "s.add(\n",
    "    x + 5*y - 3*z == 4, # 1/2 +  7/2 = 8/2 = 4\n",
    "    -x + y + z == 3,\n",
    "    2*x + y - z == 1\n",
    ")\n",
    "\n",
    "if s.check() == sat:\n",
    "    print(s.model())"
   ]
  },
  {
   "cell_type": "code",
   "execution_count": 23,
   "metadata": {},
   "outputs": [
    {
     "name": "stdout",
     "output_type": "stream",
     "text": [
      "[Q_3 = 6,\n",
      " Q_1 = 1,\n",
      " Q_7 = 0,\n",
      " Q_5 = 7,\n",
      " Q_4 = 2,\n",
      " Q_0 = 4,\n",
      " Q_2 = 3,\n",
      " Q_6 = 5]\n"
     ]
    }
   ],
   "source": [
    "#Bool p_i_j - Na polju (i,j) se nalazi dama\n",
    "#Int Q_{i} -> Broj kolone u kojoj se nalazi dama u i-tom redu\n",
    "# Q_4 = 3 -> U cetvrtom redu, dama se nalazi na trecoj koloni\n",
    "\n",
    "# Q_3 = 2, Q_4 = 2\n",
    "\n",
    "n = 8\n",
    "Q = [Int(f'Q_{i}') for i in range(n)]\n",
    "\n",
    "val_c = [And(0 <= q, q < n) for q in Q]\n",
    "col_c = [Distinct(Q)]\n",
    "diag_c = [\n",
    "    And(Q[i] - Q[j] != i - j, Q[i] - Q[j] != j - i) \n",
    "    for i in range(n) for j in range(i) if i != j\n",
    "]\n",
    "\n",
    "n_queens = val_c + col_c + diag_c\n",
    "\n",
    "solve(n_queens)"
   ]
  }
 ],
 "metadata": {
  "kernelspec": {
   "display_name": "Python 3",
   "language": "python",
   "name": "python3"
  },
  "language_info": {
   "codemirror_mode": {
    "name": "ipython",
    "version": 3
   },
   "file_extension": ".py",
   "mimetype": "text/x-python",
   "name": "python",
   "nbconvert_exporter": "python",
   "pygments_lexer": "ipython3",
   "version": "3.8.10"
  }
 },
 "nbformat": 4,
 "nbformat_minor": 5
}
