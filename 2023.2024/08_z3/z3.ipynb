{
 "cells": [
  {
   "cell_type": "markdown",
   "metadata": {},
   "source": [
    "# Sudoku"
   ]
  },
  {
   "cell_type": "code",
   "execution_count": 2,
   "metadata": {},
   "outputs": [
    {
     "name": "stdout",
     "output_type": "stream",
     "text": [
      "[[7, 1, 5, 8, 9, 4, 6, 3, 2],\n",
      " [2, 3, 4, 5, 1, 6, 8, 9, 7],\n",
      " [6, 8, 9, 7, 2, 3, 1, 4, 5],\n",
      " [4, 9, 3, 6, 5, 7, 2, 1, 8],\n",
      " [8, 6, 7, 2, 3, 1, 9, 5, 4],\n",
      " [1, 5, 2, 4, 8, 9, 7, 6, 3],\n",
      " [3, 7, 6, 1, 4, 8, 5, 2, 9],\n",
      " [9, 2, 8, 3, 6, 5, 4, 7, 1],\n",
      " [5, 4, 1, 9, 7, 2, 3, 8, 6]]\n"
     ]
    }
   ],
   "source": [
    "from z3 import *\n",
    "\n",
    "\n",
    "X = [ [ Int(\"x_%s_%s\" % (i+1, j+1)) for j in range(9) ] \n",
    "      for i in range(9) ]\n",
    "\n",
    "\n",
    "cells_c  = [ And(1 <= X[i][j], X[i][j] <= 9) \n",
    "             for i in range(9) for j in range(9) ]\n",
    "\n",
    "\n",
    "rows_c   = [ Distinct(X[i]) for i in range(9) ]\n",
    "\n",
    "\n",
    "cols_c   = [ Distinct([ X[i][j] for i in range(9) ]) \n",
    "             for j in range(9) ]\n",
    "\n",
    "sq_c     = [ Distinct([ X[3*i0 + i][3*j0 + j] \n",
    "                        for i in range(3) for j in range(3) ]) \n",
    "             for i0 in range(3) for j0 in range(3) ]\n",
    "\n",
    "sudoku_c = cells_c + rows_c + cols_c + sq_c\n",
    "\n",
    "instance = ((0,0,0,0,9,4,0,3,0),\n",
    "            (0,0,0,5,1,0,0,0,7),\n",
    "            (0,8,9,0,0,0,0,4,0),\n",
    "            (0,0,0,0,0,0,2,0,8),\n",
    "            (0,6,0,2,0,1,0,5,0),\n",
    "            (1,0,2,0,0,0,0,0,0),\n",
    "            (0,7,0,0,0,0,5,2,0),\n",
    "            (9,0,0,0,6,5,0,0,0),\n",
    "            (0,4,0,9,7,0,0,0,0))\n",
    "\n",
    "instance_c = [ If(instance[i][j] == 0, \n",
    "                  True, \n",
    "                  X[i][j] == instance[i][j]) \n",
    "               for i in range(9) for j in range(9) ]\n",
    "\n",
    "s = Solver()\n",
    "s.add(sudoku_c + instance_c)\n",
    "if s.check() == sat:\n",
    "    m = s.model()\n",
    "    r = [ [ m.evaluate(X[i][j]) for j in range(9) ] \n",
    "          for i in range(9) ]\n",
    "    print_matrix(r)\n",
    "else:\n",
    "    print(\"failed to solve\")"
   ]
  },
  {
   "cell_type": "markdown",
   "metadata": {},
   "source": [
    "# Šta Z3 ne može da uradi"
   ]
  },
  {
   "cell_type": "markdown",
   "metadata": {},
   "source": [
    "Z3 deluje neverovatno moćno, i jeste. Međutim, pomoću Z3 rešavača možemo izraziti mnogo više stvari nego što on može da reši.\n",
    "\n",
    "Na primer, faktorisanje celih brojeva je suština RSA kriptografije. Dok Z3 može faktorisati cele brojeve, ne može magično faktorisati čak ni umereno velike brojeve."
   ]
  },
  {
   "cell_type": "code",
   "execution_count": 6,
   "metadata": {},
   "outputs": [
    {
     "name": "stdout",
     "output_type": "stream",
     "text": [
      "[x = 7, y = 3]\n"
     ]
    }
   ],
   "source": [
    "x,y = Ints(\"x y\")\n",
    "pubkey = 3\t* 7\n",
    "solve(x * y == pubkey, x > 1, y > 1) # easy peasy"
   ]
  },
  {
   "cell_type": "code",
   "execution_count": 7,
   "metadata": {},
   "outputs": [
    {
     "name": "stdout",
     "output_type": "stream",
     "text": [
      "failed to solve\n"
     ]
    }
   ],
   "source": [
    "x,y = Ints(\"x y\")\n",
    "pubkey = 1000000993\t* 1000001011\n",
    "solve(x * y == pubkey, x > 1, y > 1) # nope\n"
   ]
  },
  {
   "cell_type": "markdown",
   "metadata": {},
   "source": [
    "Nelinearne jednačine će generalno biti teške. Nije nemoguće, ali teško. Z3 odmah odustaje ako pokušate da pronađete rešenje za naizgled rešiv problem koji uključuje eksponencijal. Z3 takođe ne može da razume sinuse, kosinuse i logaritme. Glavni izuzetak su ograničenja polinomske jednakosti, za koje z3 ima suštinsko razumevanje, međutim ove rutine mogu biti računski skupe."
   ]
  },
  {
   "cell_type": "code",
   "execution_count": null,
   "metadata": {},
   "outputs": [],
   "source": [
    "x = Real('x')\n",
    "s = Solver()\n",
    "s.add(2**x == 3)\n",
    "print(s.check())\n"
   ]
  },
  {
   "cell_type": "markdown",
   "metadata": {},
   "source": [
    "# Dokazati = Nema kontraprimera"
   ]
  },
  {
   "cell_type": "markdown",
   "metadata": {},
   "source": [
    "Do sada smo koristili z3 da bismo pronašli rešenja za skup ograničenja/formula. Z3 je toliko efikasan u ovom procesu da može biti iscrpan i znati kada nema rešenja za pronalaženje. Ovo je korisno za dokazivanje teorema. Ako navedemo teoremu kao što je `Implies(And(p,k),p)` koja mora biti tačna za bilo koju vrednost p i k, možemo dokazati njenu istinitost tako što ćemo iscrpno tražiti kontraprimer i ne uspeti da ga pronađemo. Kontraprimer je dodeljivanje promenljivih za koje je interpretacija teoreme netačna, ili ekvivalentno za koje negacija Not(th) interpretira tačno.\n",
    "\n",
    "solver.check() može da se vrati\n",
    "\n",
    " sat - \"Našao sam rešenje. Možete ga tražiti pomoću solver.model()\"\n",
    " nepoznato - Ovo znači \"Odustajem\". Možda negde postoji rešenje, a možda i ne.\n",
    " unsat - \"ZNAM da nema rešenja. SVE sam probao\".\n",
    "\n",
    "Evo pojednostavljene (čak ni za toliko) verzije dokaza funkcije pogodnosti Z3 u kojoj kao dokaz izvodimo negaciju i interpretaciju nesatnih.\n"
   ]
  },
  {
   "cell_type": "code",
   "execution_count": 8,
   "metadata": {},
   "outputs": [],
   "source": [
    "def prove2(f): # pojednostavljena verzija z3pi funkcije \"dokaži\"\n",
    "    s = Solver()\n",
    "    s.add(Not(f))\n",
    "    if s.check() == unsat:\n",
    "        print(\"proved\")\n",
    "    else:\n",
    "        print(\"failed to prove\")  "
   ]
  },
  {
   "cell_type": "markdown",
   "metadata": {},
   "source": [
    "# Dokazivanje u iskaznoj logici"
   ]
  },
  {
   "cell_type": "code",
   "execution_count": null,
   "metadata": {},
   "outputs": [],
   "source": [
    "p, q = Bools('p q')\n",
    "print(And(p,q))\n",
    "print(Or(p,q))\n",
    "print(Xor(p,q))\n",
    "print(Not(p))\n",
    "print(Implies(p,q))\n",
    "print(p == q)\n",
    "\n",
    "\n",
    "my_true_thm = Implies(And(p,q), p)\n",
    "prove(my_true_thm)"
   ]
  },
  {
   "cell_type": "markdown",
   "metadata": {},
   "source": [
    "\n",
    "Za vežbu\n",
    "\n",
    "Dokazati:\n",
    "\n",
    "    De Morgan's Law p & q == ~ (~p | ~q)\n",
    "    p -> q == ~ p | q\n",
    "    Peirce's Law ((p -> q) -> p) -> p is always true\n",
    "\n"
   ]
  },
  {
   "cell_type": "code",
   "execution_count": 15,
   "metadata": {},
   "outputs": [
    {
     "name": "stdout",
     "output_type": "stream",
     "text": [
      "And(p, q) == Not(Or(Not(p), Not(q)))\n",
      "Proving demorgan...\n",
      "proved\n"
     ]
    }
   ],
   "source": [
    "p, q = Bools('p q')\n",
    "demorgan = And(p, q) == Not(Or(Not(p), Not(q)))\n",
    "print(demorgan)\n",
    "\n",
    "def prove(f):\n",
    "    s = Solver()\n",
    "    s.add(Not(f))\n",
    "    if s.check() == unsat:\n",
    "        print(\"proved\")\n",
    "    else:\n",
    "        print(\"failed to prove\")\n",
    "\n",
    "print(\"Proving demorgan...\")\n",
    "prove(demorgan)\n",
    "\n"
   ]
  }
 ],
 "metadata": {
  "kernelspec": {
   "display_name": "Python 3",
   "language": "python",
   "name": "python3"
  },
  "language_info": {
   "codemirror_mode": {
    "name": "ipython",
    "version": 3
   },
   "file_extension": ".py",
   "mimetype": "text/x-python",
   "name": "python",
   "nbconvert_exporter": "python",
   "pygments_lexer": "ipython3",
   "version": "3.8.10"
  }
 },
 "nbformat": 4,
 "nbformat_minor": 4
}
