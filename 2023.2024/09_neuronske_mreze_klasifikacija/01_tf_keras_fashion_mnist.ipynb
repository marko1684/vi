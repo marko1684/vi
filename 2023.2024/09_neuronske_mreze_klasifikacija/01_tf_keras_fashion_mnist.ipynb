{
 "cells": [
  {
   "cell_type": "markdown",
   "metadata": {
    "colab_type": "text",
    "id": "IdwQxfbJYKkK"
   },
   "source": [
    "Materijali zasnovani na [zvaničnom](https://www.tensorflow.org/tutorials/keras/classification) TensorFlow tutorial-u."
   ]
  },
  {
   "cell_type": "markdown",
   "metadata": {
    "colab_type": "text",
    "id": "jYysdyb-CaWM"
   },
   "source": [
    "# Osnovna klasifikacija: Skup podataka `Fashion MNIST`"
   ]
  },
  {
   "cell_type": "markdown",
   "metadata": {
    "colab_type": "text",
    "id": "FbVhjPpzn6BM"
   },
   "source": [
    "U ovom primeru ćemo obučavati neuronsku mrežu da klasifikuje fotografije\n",
    "odeće iz skupa podataka `Fashion MNIST`.\n",
    "\n",
    "Za realizaciju ćemo koristiti biblioteku `keras` (skoro integrisanu )\n",
    "u biblioteci `tensorflow`. Biblioteka `keras` je integrisana u `tensorflow`\n",
    "počevši od verzije `2.0` i na dalje se preporučuje njeno korišćenje\n",
    "iz `tensorflow`-a. Ranije je bilo neophodno instalirati `keras` i podršku\n",
    "za izračunavanje (`tensorflow`, `theano`, `cntk`) odvojeno. Usled popularnosti\n",
    "biblioteke `keras`, integrisana je u `tensorflow`."
   ]
  },
  {
   "cell_type": "code",
   "execution_count": 1,
   "metadata": {
    "colab": {
     "base_uri": "https://localhost:8080/",
     "height": 35
    },
    "colab_type": "code",
    "id": "dzLKpmZICaWN",
    "outputId": "97acb484-024f-46ce-de93-dbfc28d8c787"
   },
   "outputs": [
    {
     "name": "stdout",
     "output_type": "stream",
     "text": [
      "2.2.0-rc3\n"
     ]
    }
   ],
   "source": [
    "# Ucitavamo tensorflow\n",
    "import tensorflow as tf\n",
    "# Ucitavamo keras\n",
    "from tensorflow import keras\n",
    "\n",
    "# Pomocne biblioteke\n",
    "import numpy as np\n",
    "import matplotlib.pyplot as plt\n",
    "\n",
    "# Korisno ako koristite tamnu temu, slike ce se bolje videti.\n",
    "plt.style.use('dark_background')\n",
    "\n",
    "# Korisno je uvek ostaviti ispisane verzije biblioteka koje su koriscene kako bi\n",
    "# drugi ljudi imali tu informaciju pri pokretanju vasih sveski.\n",
    "print(tf.__version__)"
   ]
  },
  {
   "cell_type": "markdown",
   "metadata": {
    "colab_type": "text",
    "id": "yR0EdgrLCaWR"
   },
   "source": [
    "## Skup podataka `Fashion MNIST`"
   ]
  },
  {
   "cell_type": "markdown",
   "metadata": {
    "colab_type": "text",
    "id": "DLdCchMdCaWQ"
   },
   "source": [
    "Ovaj primer koristi [Fashion MNIST](https://github.com/zalandoresearch/fashion-mnist) skup podataka koji sadrži 70,000 crno belih slika koje su\n",
    "podeljene u 10 kategorija. Jedna slika sadrži jedan komad odeće ili obuće.\n",
    "Rezolucija slike je $28 \\times 28$ piksela.\n",
    "\n",
    "<table>\n",
    "  <tr><td>\n",
    "    <img src=\"https://tensorflow.org/images/fashion-mnist-sprite.png\"\n",
    "         alt=\"Fashion MNIST sprite\"  width=\"600\">\n",
    "  </td></tr>\n",
    "  <tr><td align=\"center\">\n",
    "    <b>Slika 1.</b> <a href=\"https://github.com/zalandoresearch/fashion-mnist\">Fashion-MNIST primeri</a> (by Zalando, MIT License).<br/>&nbsp;\n",
    "  </td></tr>\n",
    "</table>\n",
    "\n",
    "Fashion MNIST je namenjen kao zamena za tradicionalni [MNIST](http://yann.lecun.com/exdb/mnist/) skup podataka koji se ranije često koristio kao prvi\n",
    "ilustrativni skup podataka za klasifikaciju (sa slikama). `MNIST` sadrži\n",
    "slike rukom pisanih cifara u vrlo sličnom formatu kao prethodno opisano\n",
    "za `Fashion MNIST`.\n",
    "\n",
    "`Fashion MNIST` je nešto teži skup podataka u odnosu na `MNIST`, no oba skupa\n",
    "su izuzetno čista (nema šuma, odstupanja u uglovima fotografije, relativno\n",
    "slično osvetljenje), te rešavanju klasifikacionog problema na njima nije\n",
    "teško.\n",
    "\n",
    "U ovom primeru ćemo koristiti 60,000 slika da obučimo mrežu, a ostalih 10,000\n",
    "slika da evaluiramo koliko precizno je naša mreža klasifikovala slike.\n",
    "\n",
    "Pošto je `Fashion MNIST` relativno poznat skup koji se često koristi,\n",
    "nije retkost da biblioteke pružaju pomoćne funkcije za njegovo preuzimanje\n",
    "i korišćenje."
   ]
  },
  {
   "cell_type": "code",
   "execution_count": null,
   "metadata": {
    "colab": {},
    "colab_type": "code",
    "id": "7MqDQO0KCaWS"
   },
   "outputs": [],
   "source": [
    "fashion_mnist = keras.datasets.fashion_mnist\n",
    "\n",
    "# Funkcija vraca dva uredjena para kod kojih je prvi element niz\n",
    "# slika, a drugi element niz labela za slike.\n",
    "(train_images, train_labels), (test_images, test_labels) = fashion_mnist.load_data()"
   ]
  },
  {
   "cell_type": "markdown",
   "metadata": {
    "colab_type": "text",
    "id": "t9FDsUlxCaWW"
   },
   "source": [
    "Preciznije rečeno, funkcija nam vraća `numpy` nizove:\n",
    "\n",
    "* `train_images` i `train_labels` nizovi su skup podataka za obučavanje modela\n",
    "* Model se testira na skupu za testiranje, `test_images`, i `test_labels` sadrže\n",
    "potrebne podatke.\n",
    "\n",
    "Slike su `numpy` nizovi oblika (28, 28) sa pikselima čije vrednosti se nalaze\n",
    "u opsegu celih brojeva od 0 do 255 (uključujući obe vrednosti).\n",
    "Labele (`train_labels` i `test_labels`) predstavljaju niz brojeva sa vrednostima\n",
    "0, 1, 2, ..., 9 koji predstavljaju oznaku kategorije kojoj pripada instanca.\n",
    "\n",
    "Radi manje konfuzije, imena klasa će biti ostavljena na engleskom jeziku.\n",
    "\n",
    "<table>\n",
    "  <tr>\n",
    "    <th>Labela</th>\n",
    "    <th>Klasa</th>\n",
    "  </tr>\n",
    "  <tr>\n",
    "    <td>0</td>\n",
    "    <td>T-shirt/top</td>\n",
    "  </tr>\n",
    "  <tr>\n",
    "    <td>1</td>\n",
    "    <td>Trouser</td>\n",
    "  </tr>\n",
    "    <tr>\n",
    "    <td>2</td>\n",
    "    <td>Pullover</td>\n",
    "  </tr>\n",
    "    <tr>\n",
    "    <td>3</td>\n",
    "    <td>Dress</td>\n",
    "  </tr>\n",
    "    <tr>\n",
    "    <td>4</td>\n",
    "    <td>Coat</td>\n",
    "  </tr>\n",
    "    <tr>\n",
    "    <td>5</td>\n",
    "    <td>Sandal</td>\n",
    "  </tr>\n",
    "    <tr>\n",
    "    <td>6</td>\n",
    "    <td>Shirt</td>\n",
    "  </tr>\n",
    "    <tr>\n",
    "    <td>7</td>\n",
    "    <td>Sneaker</td>\n",
    "  </tr>\n",
    "    <tr>\n",
    "    <td>8</td>\n",
    "    <td>Bag</td>\n",
    "  </tr>\n",
    "    <tr>\n",
    "    <td>9</td>\n",
    "    <td>Ankle boot</td>\n",
    "  </tr>\n",
    "</table>\n"
   ]
  },
  {
   "cell_type": "code",
   "execution_count": null,
   "metadata": {
    "colab": {},
    "colab_type": "code",
    "id": "IjnLH5S2CaWx"
   },
   "outputs": [],
   "source": [
    "class_names = ['T-shirt/top', 'Trouser', 'Pullover', 'Dress', 'Coat',\n",
    "               'Sandal', 'Shirt', 'Sneaker', 'Bag', 'Ankle boot']"
   ]
  },
  {
   "cell_type": "markdown",
   "metadata": {
    "colab_type": "text",
    "id": "Brm0b_KACaWX"
   },
   "source": [
    "## Analiza skupa podataka\n",
    "\n",
    "Pogledajmo malo skup podataka detaljnije.\n",
    "\n",
    "Na primer, postoji 60,000 instanci u skupu za obučavanje čija je\n",
    "rezolucija $28 \\times 28$. Nizovi iz biblioteke `numpy` imaju svoj *oblik*\n",
    "(eng. shape) koji definišu njihovu dimenzionalnost."
   ]
  },
  {
   "cell_type": "code",
   "execution_count": 4,
   "metadata": {
    "colab": {
     "base_uri": "https://localhost:8080/",
     "height": 35
    },
    "colab_type": "code",
    "id": "zW5k_xz1CaWX",
    "outputId": "d0e61b73-e8de-4e53-fc62-f485087ed63f"
   },
   "outputs": [
    {
     "data": {
      "text/plain": [
       "(60000, 28, 28)"
      ]
     },
     "execution_count": 4,
     "metadata": {
      "tags": []
     },
     "output_type": "execute_result"
    }
   ],
   "source": [
    "train_images.shape"
   ]
  },
  {
   "cell_type": "markdown",
   "metadata": {
    "colab_type": "text",
    "id": "cIAcvQqMCaWf"
   },
   "source": [
    "Takođe, očekujemo da postoji 60,000 labela u labelama za obučavanje."
   ]
  },
  {
   "cell_type": "code",
   "execution_count": 5,
   "metadata": {
    "colab": {
     "base_uri": "https://localhost:8080/",
     "height": 35
    },
    "colab_type": "code",
    "id": "TRFYHB2mCaWb",
    "outputId": "f3b0220f-e903-4229-9790-2b5acfb05778"
   },
   "outputs": [
    {
     "data": {
      "text/plain": [
       "60000"
      ]
     },
     "execution_count": 5,
     "metadata": {
      "tags": []
     },
     "output_type": "execute_result"
    }
   ],
   "source": [
    "len(train_labels)"
   ]
  },
  {
   "cell_type": "code",
   "execution_count": 6,
   "metadata": {
    "colab": {
     "base_uri": "https://localhost:8080/",
     "height": 35
    },
    "colab_type": "code",
    "id": "Bgvhe78teX_7",
    "outputId": "6983d16d-3e0a-4f9b-a788-2ed7604c42fa"
   },
   "outputs": [
    {
     "data": {
      "text/plain": [
       "(60000,)"
      ]
     },
     "execution_count": 6,
     "metadata": {
      "tags": []
     },
     "output_type": "execute_result"
    }
   ],
   "source": [
    "train_labels.shape"
   ]
  },
  {
   "cell_type": "markdown",
   "metadata": {
    "colab_type": "text",
    "id": "YSlYxFuRCaWk"
   },
   "source": [
    "Svaka labela je ceo broj iz intervala [0, 9]."
   ]
  },
  {
   "cell_type": "code",
   "execution_count": 7,
   "metadata": {
    "colab": {
     "base_uri": "https://localhost:8080/",
     "height": 35
    },
    "colab_type": "code",
    "id": "XKnCTHz4CaWg",
    "outputId": "2a74caae-f935-4671-e9be-95366ef075d7"
   },
   "outputs": [
    {
     "data": {
      "text/plain": [
       "array([9, 0, 0, ..., 3, 0, 5], dtype=uint8)"
      ]
     },
     "execution_count": 7,
     "metadata": {
      "tags": []
     },
     "output_type": "execute_result"
    }
   ],
   "source": [
    "train_labels"
   ]
  },
  {
   "cell_type": "code",
   "execution_count": 8,
   "metadata": {
    "colab": {
     "base_uri": "https://localhost:8080/",
     "height": 35
    },
    "colab_type": "code",
    "id": "ej73KhYYegSJ",
    "outputId": "2a6423e6-f94a-4809-9ff7-4d14af8f3d5f"
   },
   "outputs": [
    {
     "data": {
      "text/plain": [
       "array([0, 1, 2, 3, 4, 5, 6, 7, 8, 9], dtype=uint8)"
      ]
     },
     "execution_count": 8,
     "metadata": {
      "tags": []
     },
     "output_type": "execute_result"
    }
   ],
   "source": [
    "np.unique(train_labels)"
   ]
  },
  {
   "cell_type": "markdown",
   "metadata": {
    "colab_type": "text",
    "id": "TMPI88iZpO2T"
   },
   "source": [
    "Postoji 10,000 slika u skupu za obučavanje. Takođe, slike su rezolucije\n",
    "$28 \\times 28$.\n"
   ]
  },
  {
   "cell_type": "code",
   "execution_count": 9,
   "metadata": {
    "colab": {
     "base_uri": "https://localhost:8080/",
     "height": 35
    },
    "colab_type": "code",
    "id": "2KFnYlcwCaWl",
    "outputId": "37cd9148-dd48-41b5-b056-c16f360a02ce"
   },
   "outputs": [
    {
     "data": {
      "text/plain": [
       "(10000, 28, 28)"
      ]
     },
     "execution_count": 9,
     "metadata": {
      "tags": []
     },
     "output_type": "execute_result"
    }
   ],
   "source": [
    "test_images.shape"
   ]
  },
  {
   "cell_type": "markdown",
   "metadata": {
    "colab_type": "text",
    "id": "rd0A0Iu0CaWq"
   },
   "source": [
    "Skup za testiranje takođe treba da sadrži 10,000 labela."
   ]
  },
  {
   "cell_type": "code",
   "execution_count": 10,
   "metadata": {
    "colab": {
     "base_uri": "https://localhost:8080/",
     "height": 35
    },
    "colab_type": "code",
    "id": "iJmPr5-ACaWn",
    "outputId": "16a194ff-60c0-4530-b060-cfb1e38f536a"
   },
   "outputs": [
    {
     "data": {
      "text/plain": [
       "10000"
      ]
     },
     "execution_count": 10,
     "metadata": {
      "tags": []
     },
     "output_type": "execute_result"
    }
   ],
   "source": [
    "len(test_labels)"
   ]
  },
  {
   "cell_type": "markdown",
   "metadata": {
    "colab_type": "text",
    "id": "ES6uQoLKCaWr"
   },
   "source": [
    "## Pretprocesiranje podataka\n",
    "\n",
    "Pretprocesiranje podataka predstavlja važan korak u većini primena u okviru\n",
    "problema klasifikacije (i regresije). Oblik u kome dobijemo podatko često\n",
    "nije dovoljno pogodan za algoritme koje želimo da koristimo te je potrebno\n",
    "izvršiti određene transformacije kako bi se to nadomestilo.\n",
    "\n",
    "Treba pažljivo uraditi analizu skupa podataka koji se koristi jer taj korak\n",
    "često definiše dalje korake - kao što su pretprocesiranje i odabir algoritama.\n",
    "\n",
    "Pogledajmo koje vrednosti uzimaju pikseli slika u našem skupu."
   ]
  },
  {
   "cell_type": "code",
   "execution_count": 11,
   "metadata": {
    "colab": {
     "base_uri": "https://localhost:8080/",
     "height": 265
    },
    "colab_type": "code",
    "id": "m4VEw8Ud9Quh",
    "outputId": "eae71872-b9cf-4659-9a92-b84ed8ec3f77"
   },
   "outputs": [
    {
     "data": {
      "image/png": "[encoded data removed]",
      "text/plain": [
       "<Figure size 432x288 with 2 Axes>"
      ]
     },
     "metadata": {
      "needs_background": "dark",
      "tags": []
     },
     "output_type": "display_data"
    }
   ],
   "source": [
    "plt.figure()\n",
    "plt.imshow(train_images[0])\n",
    "plt.colorbar()\n",
    "plt.grid(False)\n",
    "plt.show()"
   ]
  },
  {
   "cell_type": "code",
   "execution_count": 12,
   "metadata": {
    "colab": {
     "base_uri": "https://localhost:8080/",
     "height": 265
    },
    "colab_type": "code",
    "id": "9I8uXgCkgFJ_",
    "outputId": "ddeb7a7e-f6cc-434e-d12f-df7255896f38"
   },
   "outputs": [
    {
     "data": {
      "image/png": "[encoded data removed]",
      "text/plain": [
       "<Figure size 432x288 with 1 Axes>"
      ]
     },
     "metadata": {
      "needs_background": "dark",
      "tags": []
     },
     "output_type": "display_data"
    }
   ],
   "source": [
    "_ = plt.hist(train_images[0])"
   ]
  },
  {
   "cell_type": "markdown",
   "metadata": {
    "colab_type": "text",
    "id": "Wz7l27Lz9S1P"
   },
   "source": [
    "Piksele možemo skalirati na interval [0, 1]. Važno je biti pažljiv pri\n",
    "primeni pretprocesiranja jer treba primeniti transformacije i nad skupom\n",
    "za obučavanje i nad skupom za testiranje."
   ]
  },
  {
   "cell_type": "code",
   "execution_count": null,
   "metadata": {
    "colab": {},
    "colab_type": "code",
    "id": "bW5WzIPlCaWv"
   },
   "outputs": [],
   "source": [
    "train_images = train_images / 255.0\n",
    "\n",
    "test_images = test_images / 255.0"
   ]
  },
  {
   "cell_type": "markdown",
   "metadata": {
    "colab_type": "text",
    "id": "Ee638AlnCaWz"
   },
   "source": [
    "Možemo proveriti da li su slike u korektnom formatu. Na primer, možemo\n",
    "nacrtati prvih 25 slika iz skupa za obučavanje i prikazati ime klase\n",
    "ispod svake slike.\n",
    "\n",
    "SAVET: Često je potrebno crtati mrežu slika dimenzija $A \\times B$,\n",
    "zapamtite kako se ovo radi."
   ]
  },
  {
   "cell_type": "code",
   "execution_count": 14,
   "metadata": {
    "colab": {
     "base_uri": "https://localhost:8080/",
     "height": 589
    },
    "colab_type": "code",
    "id": "oZTImqg_CaW1",
    "outputId": "3834fd1a-c915-4eda-d362-103e34c4fdfe"
   },
   "outputs": [
    {
     "data": {
      "image/png": "[encoded data removed]",
      "text/plain": [
       "<Figure size 720x720 with 25 Axes>"
      ]
     },
     "metadata": {
      "tags": []
     },
     "output_type": "display_data"
    }
   ],
   "source": [
    "plt.figure(figsize=(10,10))\n",
    "for i in range(25):\n",
    "    plt.subplot(5,5,i+1)\n",
    "    plt.xticks([])\n",
    "    plt.yticks([])\n",
    "    plt.grid(False)\n",
    "    plt.imshow(train_images[i], cmap=plt.cm.binary)\n",
    "    plt.xlabel(class_names[train_labels[i]])\n",
    "plt.show()"
   ]
  },
  {
   "cell_type": "markdown",
   "metadata": {
    "colab_type": "text",
    "id": "59veuiEZCaW4"
   },
   "source": [
    "## Kreiranje modela\n",
    "\n",
    "Biblioteke `keras` i `tensorflow` imaju veliku podršku za definisanje\n",
    "različitih modela na nekoliko načina u zavisnosti od potreba. U ovom primeru\n",
    "ćemo prikazati jednostavan primer iz biblioteke `keras` koji definiše\n",
    "mrežu kao sekvencu slojeva sa propagacijom unapred.\n",
    "\n",
    "Nakon toga, biće neophodno izvršiti kompilaciju mreže kako bi sistem za\n",
    "izračunavanje (eng. backend, ovde je to `tensorflow`) mogao da je koristi."
   ]
  },
  {
   "cell_type": "markdown",
   "metadata": {
    "colab_type": "text",
    "id": "Gxg1XGm0eOBy"
   },
   "source": [
    "### Definisanje slojeva\n",
    "\n",
    "Sloj (eng. layer) je osnovni termin i element koji se koristi za definisanje\n",
    "arhitekture mreže. Postoje razni slojevi, ali ono što im je uglavnom svima\n",
    "zajedničko je da vrše neku transformaciju podataka sa ulaza i transformisani\n",
    "rezultat prosleđuju na izlaz.\n",
    "\n",
    "\n",
    "`tf.keras.layers.Flatten` će prosleđeni oblik podataka izravnati, odnosno u\n",
    "našem slujačaju će dimenziju $28 \\times 28$ pretvoriti u 784.\n",
    "\n",
    "`tf.keras.layers.Dense` će nam omogućiti da definišemo potpuno povezani sloj\n",
    "neurona sa njihovim težinama i aktivacijama.\n",
    "\n",
    "\n",
    "`tf.keras.Sequential` je objekat koji konstruišemo iz liste slojeva koji\n",
    "definišu arhitekturu naše mreže."
   ]
  },
  {
   "cell_type": "code",
   "execution_count": null,
   "metadata": {
    "colab": {},
    "colab_type": "code",
    "id": "9ODch-OFCaW4"
   },
   "outputs": [],
   "source": [
    "model = keras.Sequential([\n",
    "    keras.layers.Flatten(input_shape=(28, 28)),\n",
    "    keras.layers.Dense(128, activation='relu'),\n",
    "    keras.layers.Dense(10, activation='softmax')\n",
    "])"
   ]
  },
  {
   "cell_type": "markdown",
   "metadata": {
    "colab_type": "text",
    "id": "gut8A_7rCaW6"
   },
   "source": [
    "Kako nam je ulaz slika oblika (28, 28), neophodno je to transformisati\n",
    "u oblik koji potpuno povezana mreža može da prihvati. Sloj `Flatten`\n",
    "upravo radi takvu transformaciju.\n",
    "\n",
    "Na dalje definišemo potpuno povezani sloj sa 128 neurona i `relu` aktivacijom.\n",
    "Ovaj sloj na svom ulazu dobija 784 broja (ili vektor dimenzije 784) koji\n",
    "transformiše u novi vektor dimenzije 128.\n",
    "\n",
    "Sledeći sloj definišemo da ima 10 neurona koji transformišu vektor dimenzije\n",
    "128 u vektor dimenzije 10. Izlazi predstavljaju ocenu o pripadnosti instance\n",
    "klasama koje postoje. Postavljamo `softmax` aktivaciju kako bi se funkcija\n",
    "mekog maksimuma primenila na izlazu mreže i izlaz transformisala na raspodelu\n",
    "verovatnoće."
   ]
  },
  {
   "cell_type": "code",
   "execution_count": null,
   "metadata": {},
   "outputs": [],
   "source": []
  },
  {
   "cell_type": "raw",
   "metadata": {
    "colab_type": "text",
    "id": "mTnMQOQRrIZD"
   },
   "source": [
    "### Kompilacija modela\n",
    "\n",
    "Pre nego što pokrenemo obučavanje modela, potrebno je da ga prevedemo u oblik\n",
    "pogodan za operacije koje `tensorflow` treba da izvede (izračunavanje\n",
    "gradijenata, ažuriranje težina i slično).\n",
    "\n",
    "Treba definisati:\n",
    "\n",
    "- **funkciju gubitka** (eng. loss) koja meri koliko model greši.\n",
    "Ovu funkciju želimo da minimizujemo i time usmerimo model u pravom smeru\n",
    "tokom procesa obučavanja.\n",
    "- **optimizator** - algoritam koji se koristi da se ažuriraju koeficijenti\n",
    "modela\n",
    "- mere koje se koriste da se prati tok treninga (na primer tačnost)\n",
    "\n",
    "Mi ćemo definisati:\n",
    "- Kategoričku kros entropiju (tipična funkcija za multiklasnu klasifikaciju)\n",
    "- Adam (jedan od popularnijih algoritama)\n",
    "- Tačnost kao meru koju pratimo\n",
    "\n",
    "Osim toga, neophodno je da labele (nizove brojeva) transformišemo u\n",
    "oblik koji je pogodan za izračunavanje greške (kategorička kros entrpija).\n",
    "Postoji pomoćna funkcija `keras.utils.to_categorical` koja to može uraditi\n",
    "za nas. Ona će promeniti dimenzinalnost labela tako što će ceo broj X koji\n",
    "označava klasu zameniti vektorem dužine 10 koji na poziciji X ima broj 1,\n",
    "a 0 na ostalim. Pogledajte dimenzije pre i posle transformacije u sledećoj\n",
    "ćeliiji."
   ]
  },
  {
   "cell_type": "code",
   "execution_count": 16,
   "metadata": {
    "colab": {
     "base_uri": "https://localhost:8080/",
     "height": 53
    },
    "colab_type": "code",
    "id": "Lhan11blCaW7",
    "outputId": "2763175e-a581-4dde-8ca4-9433fb7a7726"
   },
   "outputs": [
    {
     "name": "stdout",
     "output_type": "stream",
     "text": [
      "(60000,)\n",
      "(60000, 10)\n"
     ]
    }
   ],
   "source": [
    "# model.compile(optimizer='adam',\n",
    "            #   loss=tf.keras.losses.SparseCategoricalCrossentropy(from_logits=True),\n",
    "            #   metrics=['accuracy'])\n",
    "\n",
    "print(train_labels.shape)\n",
    "train_labels_cat = keras.utils.to_categorical(train_labels)\n",
    "test_labels_cat = keras.utils.to_categorical(test_labels)\n",
    "print(train_labels_cat.shape)\n",
    "\n",
    "model.compile(optimizer='adam',\n",
    "              loss=tf.keras.losses.CategoricalCrossentropy(),\n",
    "              metrics=['accuracy'])"
   ]
  },
  {
   "cell_type": "markdown",
   "metadata": {
    "colab_type": "text",
    "id": "qKF6uW-BCaW-"
   },
   "source": [
    "## Obučavanje modela\n",
    "\n",
    "Obučavanje neuronskih mreža ne prati neki striktan algoritam već dosta često\n",
    "zavisi i od iskustva, problema, hardvera, skupa podataka i slično.\n",
    "No često postoji neki opšti postupak koji se može prepoznati u nekim\n",
    "situacijama.\n",
    "\n",
    "U našem slučaju, trening će se sastojati iz sledećih delova koji\n",
    "će se ponavljati (ugrubo):\n",
    "\n",
    "1. Prosleđivanje podataka iz skupa za obučavanje modelu\n",
    "1. Model ažurira koeficijente na osnovu ovih podataka\n",
    "1. Tražimo od modela da predviti kategorije za instance iz skupa za testiranje\n",
    "1. Izračunavamo tačnost na skupu za testiranje\n"
   ]
  },
  {
   "cell_type": "markdown",
   "metadata": {
    "colab_type": "text",
    "id": "Z4P4zIV7E28Z"
   },
   "source": [
    "### Pokretanje obučavanja modela\n",
    "\n",
    "Biblioteka `keras` poseduje funkciju `fit` koja automatizuje dobar deo\n",
    "ovog procesa. Kada je naš proces obučavanje modela jednostavan i postoji\n",
    "neka takva funkcija, to je sasvim dobro, no ukoliko je u pitanju kompleksniji\n",
    "trening proces, onda je često neophodno spustiti se na niži nivo i ručno\n",
    "implementirati ove korake (što nije mnogo teže).\n",
    "\n",
    "Termin epoha označava koliko prolazaka kroz trening skup će biti urađeno.\n",
    "Ukoliko postavimo da je broj epoha 10, prethodno pomenuti algoritam\n",
    "ćemo ponoviti 10 puta.\n",
    "\n",
    "Obučavanje neuronskih mreža je često izuzetno računski intenzivno, a drastična\n",
    "ubrzanja se mogu postići korišćenjem grafičkih kartica koje su u stanju\n",
    "da naprave veliki stepen paralelizacije. Google Collab omogućava da dobijemo\n",
    "grafičku karticu na korišćenje:\n",
    "\n",
    "```\n",
    "Runtimes -> Change runtime type -> Hardware accelerator -> GPU\n",
    "```\n",
    "\n",
    "### Komentar za GPU podršku\n",
    "\n",
    "Ukoliko ovo želite da podesite na vašem računaru (ukoliko poseduje adekvatnu\n",
    "grafičku karticu), potrebno je da instalirate CUDA i propratne biblioteke\n",
    "kao i `tensorflow-gpu` paket. Ovo nije trivijalno i za potrebe ovog kursa\n",
    "se savetuje da ipak koristite `Collab`, ili da na vašem kućnom računaru\n",
    "koristite `tensorflow` paket bez podrške za grafičku karticu."
   ]
  },
  {
   "cell_type": "code",
   "execution_count": 17,
   "metadata": {
    "colab": {
     "base_uri": "https://localhost:8080/",
     "height": 395
    },
    "colab_type": "code",
    "id": "xvwvpA64CaW_",
    "outputId": "a2831a82-f11c-4c79-ad90-46cc61c92302"
   },
   "outputs": [
    {
     "name": "stdout",
     "output_type": "stream",
     "text": [
      "Epoch 1/10\n",
      "1875/1875 [==============================] - 5s 3ms/step - loss: 0.5002 - accuracy: 0.8244\n",
      "Epoch 2/10\n",
      "1875/1875 [==============================] - 5s 3ms/step - loss: 0.3729 - accuracy: 0.8660\n",
      "Epoch 3/10\n",
      "1875/1875 [==============================] - 5s 3ms/step - loss: 0.3367 - accuracy: 0.8782\n",
      "Epoch 4/10\n",
      "1875/1875 [==============================] - 5s 3ms/step - loss: 0.3108 - accuracy: 0.8862\n",
      "Epoch 5/10\n",
      "1875/1875 [==============================] - 5s 3ms/step - loss: 0.2970 - accuracy: 0.8902\n",
      "Epoch 6/10\n",
      "1875/1875 [==============================] - 5s 3ms/step - loss: 0.2798 - accuracy: 0.8965\n",
      "Epoch 7/10\n",
      "1875/1875 [==============================] - 5s 3ms/step - loss: 0.2681 - accuracy: 0.9012\n",
      "Epoch 8/10\n",
      "1875/1875 [==============================] - 5s 3ms/step - loss: 0.2577 - accuracy: 0.9045\n",
      "Epoch 9/10\n",
      "1875/1875 [==============================] - 5s 3ms/step - loss: 0.2458 - accuracy: 0.9086\n",
      "Epoch 10/10\n",
      "1875/1875 [==============================] - 5s 3ms/step - loss: 0.2386 - accuracy: 0.9103\n"
     ]
    },
    {
     "data": {
      "text/plain": [
       "<tensorflow.python.keras.callbacks.History at 0x7f6520295828>"
      ]
     },
     "execution_count": 17,
     "metadata": {
      "tags": []
     },
     "output_type": "execute_result"
    }
   ],
   "source": [
    "model.fit(train_images, train_labels_cat, epochs=10)"
   ]
  },
  {
   "cell_type": "markdown",
   "metadata": {
    "colab_type": "text",
    "id": "W3ZVOhugCaXA"
   },
   "source": [
    "Kako se model obučava, možemo da pratimo progres. Praćenje progresa je jako\n",
    "važno u praksi jer obučavanje modela može da potraje od desetina minuta\n",
    "pa do nekoliko nedelja (i više...).\n",
    "\n",
    "Možemo videti koja je trenutno epoha u toku, koliko ukupno epoha treba da se\n",
    "izvrši, koliko je vremena bilo potrebno za epohu, kao i kolika je funkcija\n",
    "greške i tačnost.\n",
    "\n",
    "Možemo primetiti da je na kraju tačnost oko `0.9`."
   ]
  },
  {
   "cell_type": "markdown",
   "metadata": {
    "colab_type": "text",
    "id": "wCpr6DGyE28h"
   },
   "source": [
    "### Evaluacija tačnosti\n",
    "\n",
    "Želimo da vidimo kako se model ponaša na skupu za testiranje."
   ]
  },
  {
   "cell_type": "code",
   "execution_count": 18,
   "metadata": {
    "colab": {
     "base_uri": "https://localhost:8080/",
     "height": 71
    },
    "colab_type": "code",
    "id": "VflXLEeECaXC",
    "outputId": "09c6d1c5-fbab-4367-d32a-fc251b75d9ed"
   },
   "outputs": [
    {
     "name": "stdout",
     "output_type": "stream",
     "text": [
      "313/313 - 1s - loss: 0.3334 - accuracy: 0.8847\n",
      "\n",
      "Test accuracy: 0.8847000002861023\n"
     ]
    }
   ],
   "source": [
    "test_loss, test_acc = model.evaluate(test_images,  test_labels_cat, verbose=2)\n",
    "\n",
    "print('\\nTest accuracy:', test_acc)"
   ]
  },
  {
   "cell_type": "markdown",
   "metadata": {
    "colab_type": "text",
    "id": "yWfgsmVXCaXG"
   },
   "source": [
    "Možemo primetiti da je tačnost na skupu za testiranje niža nego na skupu\n",
    "za obučavanje. To je često odlika situacije u kojoj se desilo\n",
    "preprilagođavanje (eng. overfitting). Preprilagođavanje je situacija\n",
    "u kojoj je model počeo da uči i neke odlike u podacima koje nisu korisne\n",
    "za rešavanje problema, na primer šum. Rešavanje problema preprilagođavanja\n",
    "nije trivijalno u smislu da postoji jasan algoritam koji trepa ispratiti\n",
    "da bi problem nestao, ali često se svodi na neke stvari poput:\n",
    "\n",
    "- Koristiti jednostavniji model\n",
    "- Koristiti regularizaciju\n",
    "- Ažurirate proces obučavanja\n",
    "- i slično.\n",
    "\n",
    "Neki korisni članci relevantni za `keras` i `tensorflow`: [1](https://www.tensorflow.org/tutorials/keras/overfit_and_underfit#demonstrate_overfitting)\n",
    "i [2](https://www.tensorflow.org/tutorials/keras/overfit_and_underfit#strategies_to_prevent_overfitting)."
   ]
  },
  {
   "cell_type": "markdown",
   "metadata": {
    "colab_type": "text",
    "id": "v-PyD1SYE28q"
   },
   "source": [
    "### Korišćenje modela\n",
    "\n",
    "Nakon što je model obučen, možemo da ga koristimo za predikcije na slikama.\n"
   ]
  },
  {
   "cell_type": "code",
   "execution_count": null,
   "metadata": {
    "colab": {},
    "colab_type": "code",
    "id": "Gl91RPhdCaXI"
   },
   "outputs": [],
   "source": [
    "predictions = model.predict(test_images)"
   ]
  },
  {
   "cell_type": "markdown",
   "metadata": {
    "colab_type": "text",
    "id": "x9Kk1voUCaXJ"
   },
   "source": [
    "Model je predvideo kategoriju za svaku sliku iz skupa za testiranje.\n",
    "\n",
    "Pogledajmo predikcije za prvu sliku."
   ]
  },
  {
   "cell_type": "code",
   "execution_count": 20,
   "metadata": {
    "colab": {
     "base_uri": "https://localhost:8080/",
     "height": 71
    },
    "colab_type": "code",
    "id": "3DmJEUinCaXK",
    "outputId": "36ff5c77-12f7-4a08-ce3b-ecfc4847ed76"
   },
   "outputs": [
    {
     "data": {
      "text/plain": [
       "array([1.5322880e-07, 5.5803414e-11, 7.9433875e-08, 5.3310563e-12,\n",
       "       9.7869511e-11, 1.1631497e-03, 8.1619156e-09, 1.7157016e-02,\n",
       "       1.2308716e-06, 9.8167831e-01], dtype=float32)"
      ]
     },
     "execution_count": 20,
     "metadata": {
      "tags": []
     },
     "output_type": "execute_result"
    }
   ],
   "source": [
    "predictions[0]"
   ]
  },
  {
   "cell_type": "markdown",
   "metadata": {
    "colab_type": "text",
    "id": "-hw1hgeSCaXN"
   },
   "source": [
    "Primetimo da je dobijen niz od 10 brojeva koji predstavljaju ocenu sigurnosti\n",
    "modela o pripadnosti instance odredjenoj klasi. Određivanje kategorije kojoj\n",
    "pripada instanca se može uraditi tako što se odredi indeks u ovom nizu\n",
    "koji ima najveću vrednost.\n"
   ]
  },
  {
   "cell_type": "code",
   "execution_count": 21,
   "metadata": {
    "colab": {
     "base_uri": "https://localhost:8080/",
     "height": 35
    },
    "colab_type": "code",
    "id": "qsqenuPnCaXO",
    "outputId": "b59184c1-1b91-47ae-c244-bfc5c4fbd8a4"
   },
   "outputs": [
    {
     "data": {
      "text/plain": [
       "9"
      ]
     },
     "execution_count": 21,
     "metadata": {
      "tags": []
     },
     "output_type": "execute_result"
    }
   ],
   "source": [
    "np.argmax(predictions[0])"
   ]
  },
  {
   "cell_type": "markdown",
   "metadata": {
    "colab_type": "text",
    "id": "sy7jvB8Q4Meo"
   },
   "source": [
    "A to je klasa..."
   ]
  },
  {
   "cell_type": "code",
   "execution_count": 22,
   "metadata": {
    "colab": {
     "base_uri": "https://localhost:8080/",
     "height": 35
    },
    "colab_type": "code",
    "id": "rNp4Rejq4N8m",
    "outputId": "799bc06f-952c-47b4-e080-10eec5bb3bf0"
   },
   "outputs": [
    {
     "name": "stdout",
     "output_type": "stream",
     "text": [
      "Ankle boot\n"
     ]
    }
   ],
   "source": [
    "ix = np.argmax(predictions[0])\n",
    "print(class_names[ix])"
   ]
  },
  {
   "cell_type": "markdown",
   "metadata": {
    "colab_type": "text",
    "id": "E51yS7iCCaXO"
   },
   "source": [
    "Dakle model misli da je u pitanju kategoriju `Ankle Boot`. Ako pogledamo\n",
    "u podacima možemo zaključiti da je model u pravu jer je na poslednjoj\n",
    "poziciji (indeks 0) vrednost 1."
   ]
  },
  {
   "cell_type": "code",
   "execution_count": 23,
   "metadata": {
    "colab": {
     "base_uri": "https://localhost:8080/",
     "height": 35
    },
    "colab_type": "code",
    "id": "Sd7Pgsu6CaXP",
    "outputId": "b92a2d4a-7569-4bd9-94b0-84d6e7942af7"
   },
   "outputs": [
    {
     "data": {
      "text/plain": [
       "9"
      ]
     },
     "execution_count": 23,
     "metadata": {
      "tags": []
     },
     "output_type": "execute_result"
    }
   ],
   "source": [
    "test_labels[0]"
   ]
  },
  {
   "cell_type": "markdown",
   "metadata": {
    "colab_type": "text",
    "id": "ygh2yYC972ne"
   },
   "source": [
    "Definisaćemo dve korisne funkcije za bolju ilustraciju rada modela."
   ]
  },
  {
   "cell_type": "code",
   "execution_count": null,
   "metadata": {
    "colab": {},
    "colab_type": "code",
    "id": "DvYmmrpIy6Y1"
   },
   "outputs": [],
   "source": [
    "def plot_image(i, predictions_array, true_label, img):\n",
    "  predictions_array, true_label, img = predictions_array, true_label[i], img[i]\n",
    "  plt.grid(False)\n",
    "  plt.xticks([])\n",
    "  plt.yticks([])\n",
    "\n",
    "  plt.imshow(img, cmap=plt.cm.binary)\n",
    "\n",
    "  predicted_label = np.argmax(predictions_array)\n",
    "  if predicted_label == true_label:\n",
    "    color = 'blue'\n",
    "  else:\n",
    "    color = 'red'\n",
    "\n",
    "  plt.xlabel(\"{} {:2.0f}% ({})\".format(class_names[predicted_label],\n",
    "                                100*np.max(predictions_array),\n",
    "                                class_names[true_label]),\n",
    "                                color=color)\n",
    "\n",
    "def plot_value_array(i, predictions_array, true_label):\n",
    "  predictions_array, true_label = predictions_array, true_label[i]\n",
    "  plt.grid(False)\n",
    "  plt.xticks(range(10))\n",
    "  plt.yticks([])\n",
    "  thisplot = plt.bar(range(10), predictions_array, color=\"#777777\")\n",
    "  plt.ylim([0, 1])\n",
    "  predicted_label = np.argmax(predictions_array)\n",
    "\n",
    "  thisplot[predicted_label].set_color('red')\n",
    "  thisplot[true_label].set_color('blue')"
   ]
  },
  {
   "cell_type": "markdown",
   "metadata": {
    "colab_type": "text",
    "id": "Zh9yABaME29S"
   },
   "source": [
    "### Vizuelni prikaz predikcija"
   ]
  },
  {
   "cell_type": "code",
   "execution_count": 25,
   "metadata": {
    "colab": {
     "base_uri": "https://localhost:8080/",
     "height": 211
    },
    "colab_type": "code",
    "id": "HV5jw-5HwSmO",
    "outputId": "691b14bf-9930-4b8d-d690-77353cfe126f"
   },
   "outputs": [
    {
     "data": {
      "image/png": "[encoded data removed]",
      "text/plain": [
       "<Figure size 432x216 with 2 Axes>"
      ]
     },
     "metadata": {
      "needs_background": "dark",
      "tags": []
     },
     "output_type": "display_data"
    }
   ],
   "source": [
    "i = 0\n",
    "plt.figure(figsize=(6,3))\n",
    "plt.subplot(1,2,1)\n",
    "plot_image(i, predictions[i], test_labels, test_images)\n",
    "plt.subplot(1,2,2)\n",
    "plot_value_array(i, predictions[i],  test_labels)\n",
    "plt.show()"
   ]
  },
  {
   "cell_type": "code",
   "execution_count": 26,
   "metadata": {
    "colab": {
     "base_uri": "https://localhost:8080/",
     "height": 211
    },
    "colab_type": "code",
    "id": "Ko-uzOufSCSe",
    "outputId": "eb2ade41-2094-4e3a-c62b-54f4d036c1ec"
   },
   "outputs": [
    {
     "data": {
      "image/png": "[encoded data removed]",
      "text/plain": [
       "<Figure size 432x216 with 2 Axes>"
      ]
     },
     "metadata": {
      "needs_background": "dark",
      "tags": []
     },
     "output_type": "display_data"
    }
   ],
   "source": [
    "i = 12\n",
    "plt.figure(figsize=(6,3))\n",
    "plt.subplot(1,2,1)\n",
    "plot_image(i, predictions[i], test_labels, test_images)\n",
    "plt.subplot(1,2,2)\n",
    "plot_value_array(i, predictions[i],  test_labels)\n",
    "plt.show()"
   ]
  },
  {
   "cell_type": "markdown",
   "metadata": {
    "colab_type": "text",
    "id": "kgdvGD52CaXR"
   },
   "source": [
    "Nacrtajmo nekoliko slika na sličan način."
   ]
  },
  {
   "cell_type": "code",
   "execution_count": 27,
   "metadata": {
    "colab": {
     "base_uri": "https://localhost:8080/",
     "height": 729
    },
    "colab_type": "code",
    "id": "hQlnbqaw2Qu_",
    "outputId": "8eb37f9a-3af5-4333-c5f6-dac3336c6206"
   },
   "outputs": [
    {
     "data": {
      "image/png": "[encoded data removed]",
      "text/plain": [
       "<Figure size 864x720 with 30 Axes>"
      ]
     },
     "metadata": {
      "needs_background": "dark",
      "tags": []
     },
     "output_type": "display_data"
    }
   ],
   "source": [
    "# Plot the first X test images, their predicted labels, and the true labels.\n",
    "# Color correct predictions in blue and incorrect predictions in red.\n",
    "num_rows = 5\n",
    "num_cols = 3\n",
    "num_images = num_rows*num_cols\n",
    "plt.figure(figsize=(2*2*num_cols, 2*num_rows))\n",
    "for i in range(num_images):\n",
    "    plt.subplot(num_rows, 2*num_cols, 2*i+1)\n",
    "    plot_image(i, predictions[i], test_labels, test_images)\n",
    "    plt.subplot(num_rows, 2*num_cols, 2*i+2)\n",
    "    plot_value_array(i, predictions[i], test_labels)\n",
    "plt.tight_layout()\n",
    "plt.show()"
   ]
  },
  {
   "cell_type": "markdown",
   "metadata": {
    "colab_type": "text",
    "id": "R32zteKHCaXT"
   },
   "source": [
    "## Korišćenje modela\n",
    "\n",
    "Šta ukoliko želimo da predvidimo klasu nad jednom slikom?"
   ]
  },
  {
   "cell_type": "code",
   "execution_count": 28,
   "metadata": {
    "colab": {
     "base_uri": "https://localhost:8080/",
     "height": 35
    },
    "colab_type": "code",
    "id": "yRJ7JU7JCaXT",
    "outputId": "e1b73897-2686-435d-ef5a-0f5a357048b2"
   },
   "outputs": [
    {
     "name": "stdout",
     "output_type": "stream",
     "text": [
      "(28, 28)\n"
     ]
    }
   ],
   "source": [
    "img = test_images[1]\n",
    "\n",
    "print(img.shape)"
   ]
  },
  {
   "cell_type": "markdown",
   "metadata": {
    "colab_type": "text",
    "id": "vz3bVp21CaXV"
   },
   "source": [
    "`tf.keras` modeli su optimizovani da radi predikcije na podskupu podataka\n",
    "(eng. batch) u jednom prolazu (pogledajte prethodni primer gde smo dobili\n",
    "predikcije nad **celim** skupom za testiranje). Usled toga neophodno je\n",
    "(28, 28) prebaciti u oblik (1, 28, 28). Možete smatrati da je prva dimenzija\n",
    "broj koji označava broj instanci koji se prosleđuje mreži.\n"
   ]
  },
  {
   "cell_type": "code",
   "execution_count": 29,
   "metadata": {
    "colab": {
     "base_uri": "https://localhost:8080/",
     "height": 35
    },
    "colab_type": "code",
    "id": "lDFh5yF_CaXW",
    "outputId": "f70188f8-1075-49a7-aa1f-feeb27c1d94e"
   },
   "outputs": [
    {
     "name": "stdout",
     "output_type": "stream",
     "text": [
      "(1, 28, 28)\n"
     ]
    }
   ],
   "source": [
    "img = (np.expand_dims(img, 0))\n",
    "\n",
    "print(img.shape)"
   ]
  },
  {
   "cell_type": "markdown",
   "metadata": {
    "colab_type": "text",
    "id": "EQ5wLTkcCaXY"
   },
   "source": [
    "Vršimo predikciju nad slikom."
   ]
  },
  {
   "cell_type": "code",
   "execution_count": 30,
   "metadata": {
    "colab": {
     "base_uri": "https://localhost:8080/",
     "height": 53
    },
    "colab_type": "code",
    "id": "o_rzNSdrCaXY",
    "outputId": "e9d45d17-2304-4954-c8ae-ea721557e526"
   },
   "outputs": [
    {
     "name": "stdout",
     "output_type": "stream",
     "text": [
      "[[2.9360969e-04 3.3696040e-10 9.9863380e-01 1.1161959e-08 6.1382650e-04\n",
      "  2.3753037e-09 4.5878135e-04 1.7025253e-11 2.0106572e-08 4.9588053e-14]]\n"
     ]
    }
   ],
   "source": [
    "predictions_single = model.predict(img)\n",
    "\n",
    "print(predictions_single)"
   ]
  },
  {
   "cell_type": "code",
   "execution_count": 31,
   "metadata": {
    "colab": {
     "base_uri": "https://localhost:8080/",
     "height": 300
    },
    "colab_type": "code",
    "id": "6Ai-cpLjO-3A",
    "outputId": "4c7946c8-0feb-4200-e259-cf9175e5dbbd"
   },
   "outputs": [
    {
     "data": {
      "image/png": "[encoded data removed]",
      "text/plain": [
       "<Figure size 432x288 with 1 Axes>"
      ]
     },
     "metadata": {
      "needs_background": "dark",
      "tags": []
     },
     "output_type": "display_data"
    }
   ],
   "source": [
    "plot_value_array(1, predictions_single[0], test_labels)\n",
    "_ = plt.xticks(range(10), class_names, rotation=45)"
   ]
  },
  {
   "cell_type": "markdown",
   "metadata": {
    "colab_type": "text",
    "id": "cU1Y2OAMCaXb"
   },
   "source": [
    "`keras.Model.predict` nam vraća listu listi (usled rada na nivou podskupa)\n",
    "pa ćemo uzeti prvi element te liste.\n"
   ]
  },
  {
   "cell_type": "code",
   "execution_count": 32,
   "metadata": {
    "colab": {
     "base_uri": "https://localhost:8080/",
     "height": 35
    },
    "colab_type": "code",
    "id": "2tRmdq_8CaXb",
    "outputId": "6adcdf17-cbb3-4d13-93ed-2c8e1ecb57fc"
   },
   "outputs": [
    {
     "data": {
      "text/plain": [
       "2"
      ]
     },
     "execution_count": 32,
     "metadata": {
      "tags": []
     },
     "output_type": "execute_result"
    }
   ],
   "source": [
    "np.argmax(predictions_single[0])"
   ]
  }
 ],
 "metadata": {
  "accelerator": "GPU",
  "colab": {
   "collapsed_sections": [],
   "name": "tf.keras.fashion.mnist.ipynb",
   "provenance": [],
   "toc_visible": true
  },
  "kernelspec": {
   "display_name": "Python 3",
   "language": "python",
   "name": "python3"
  },
  "language_info": {
   "codemirror_mode": {
    "name": "ipython",
    "version": 3
   },
   "file_extension": ".py",
   "mimetype": "text/x-python",
   "name": "python",
   "nbconvert_exporter": "python",
   "pygments_lexer": "ipython3",
   "version": "3.8.5"
  }
 },
 "nbformat": 4,
 "nbformat_minor": 4
}
