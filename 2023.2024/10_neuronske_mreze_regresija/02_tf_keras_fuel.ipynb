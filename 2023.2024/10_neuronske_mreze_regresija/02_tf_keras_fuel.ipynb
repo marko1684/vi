{
 "cells": [
  {
   "cell_type": "markdown",
   "metadata": {
    "colab_type": "text",
    "id": "FhGuhbZ6M5tl"
   },
   "source": [
    "Materijali zasnovani na [zvaničnom](https://www.tensorflow.org/tutorials/keras/regression) TensorFlow tutorial-u."
   ]
  },
  {
   "cell_type": "markdown",
   "metadata": {
    "colab_type": "text",
    "id": "EIdT9iu_Z4Rb"
   },
   "source": [
    "# Regresija: Predviđanje potrošnje goriva "
   ]
  },
  {
   "cell_type": "markdown",
   "metadata": {
    "colab_type": "text",
    "id": "AHp3M9ZmrIxj"
   },
   "source": [
    "U problemu regresije, cilj je izvršiti predikciju kontinualne vrednosti\n",
    "poput cene proizvoda ili visine osobe. U ovom primeru ćemo videti\n",
    "kako se neuronske mreže mogu koristiti za rešavanje problema\n",
    "regresije, a za te potrebe ćemo koristiti skup podataka\n",
    "[Auto MPG](https://archive.ics.uci.edu/ml/datasets/auto+mpg) koji ima\n",
    "podatke o potrošnji goriva za automobile iz perida 1970-1980."
   ]
  },
  {
   "cell_type": "code",
   "execution_count": null,
   "metadata": {
    "colab": {},
    "colab_type": "code",
    "id": "moB4tpEHxKB3"
   },
   "outputs": [],
   "source": [
    "# Instaliramo biblioteku seaborn.\n",
    "# Jedino cemo je koristiti za `pairplot` funkciju.\n",
    "!pip install -q seaborn"
   ]
  },
  {
   "cell_type": "code",
   "execution_count": null,
   "metadata": {
    "colab": {},
    "colab_type": "code",
    "id": "1rRo8oNqZ-Rj"
   },
   "outputs": [],
   "source": [
    "import pathlib\n",
    "\n",
    "import matplotlib.pyplot as plt\n",
    "import numpy as np\n",
    "import pandas as pd\n",
    "\n",
    "import seaborn as sns"
   ]
  },
  {
   "cell_type": "code",
   "execution_count": null,
   "metadata": {
    "colab": {},
    "colab_type": "code",
    "id": "9xQKvCJ85kCQ"
   },
   "outputs": [],
   "source": [
    "import tensorflow as tf\n",
    "\n",
    "from tensorflow import keras\n",
    "from tensorflow.keras import layers\n",
    "\n",
    "print(tf.__version__)"
   ]
  },
  {
   "cell_type": "code",
   "execution_count": null,
   "metadata": {
    "colab": {},
    "colab_type": "code",
    "id": "Qz4HfsgRQUiV"
   },
   "outputs": [],
   "source": []
  },
  {
   "cell_type": "markdown",
   "metadata": {
    "colab_type": "text",
    "id": "F_72b0LCNbjx"
   },
   "source": [
    "## The Auto MPG skup podataka\n",
    "\n",
    "Skup podataka je dostupan na [UCI Machine Learning](https://archive.ics.uci.edu/ml/) repozitorijumu.\n"
   ]
  },
  {
   "cell_type": "markdown",
   "metadata": {
    "colab_type": "text",
    "id": "gFh9ne3FZ-On"
   },
   "source": [
    "### Preuzimanje podataka\n",
    "\n",
    "Podatke možemo preuzeti pomoću `keras.utils.get_file` funkcije."
   ]
  },
  {
   "cell_type": "code",
   "execution_count": null,
   "metadata": {
    "colab": {},
    "colab_type": "code",
    "id": "p9kxxgzvzlyz"
   },
   "outputs": [],
   "source": [
    "dataset_path = keras.utils.get_file(\"auto-mpg.data\", \"http://archive.ics.uci.edu/ml/machine-learning-databases/auto-mpg/auto-mpg.data\")\n",
    "dataset_path"
   ]
  },
  {
   "cell_type": "markdown",
   "metadata": {
    "colab_type": "text",
    "id": "nslsRLh7Zss4"
   },
   "source": [
    "Potom možemo učitati podatke koristeći `pandas` biblioteku za rad\n",
    "sa tabelarnim podacima.\n",
    "\n",
    "Od vas se ne očekuje duboko poznavanje biblioteke\n",
    "`pandas` već samo nekoliko elementarnih transformacija koje će biti prikazane.\n",
    "U ispitnim zadacima će podaci biti učitani (ali ne i pretprocesirani) za vas."
   ]
  },
  {
   "cell_type": "code",
   "execution_count": null,
   "metadata": {
    "colab": {},
    "colab_type": "code",
    "id": "CiX2FI4gZtTt"
   },
   "outputs": [],
   "source": [
    "column_names = ['MPG','Cylinders','Displacement','Horsepower','Weight',\n",
    "                'Acceleration', 'Model Year', 'Origin']\n",
    "raw_dataset = pd.read_csv(dataset_path, names=column_names,\n",
    "                      na_values = \"?\", comment='\\t',\n",
    "                      sep=\" \", skipinitialspace=True)\n",
    "\n",
    "dataset = raw_dataset.copy()\n",
    "dataset.tail()"
   ]
  },
  {
   "cell_type": "markdown",
   "metadata": {
    "colab_type": "text",
    "id": "3MWuJTKEDM-f"
   },
   "source": [
    "### Sređivanje podataka\n",
    "\n",
    "Skup sadrži neke podatke koji imaju nedostajuće vrednosti."
   ]
  },
  {
   "cell_type": "code",
   "execution_count": null,
   "metadata": {
    "colab": {},
    "colab_type": "code",
    "id": "JEJHhN65a2VV"
   },
   "outputs": [],
   "source": [
    "dataset.isna().sum()"
   ]
  },
  {
   "cell_type": "markdown",
   "metadata": {
    "colab_type": "text",
    "id": "9UPN0KBHa_WI"
   },
   "source": [
    "Postoje različiti načini da se bori protiv nedostajućih vrednosti\n",
    "(njihova aproksimacija prosekom ili drugim vrednostima i slično), ali se u ovom\n",
    "kursu nećemo baviti time. U našem slučaju, izbacićemo vrste (instance) koje\n",
    "imaju nedostajuće vrednosti."
   ]
  },
  {
   "cell_type": "code",
   "execution_count": null,
   "metadata": {
    "colab": {},
    "colab_type": "code",
    "id": "4ZUDosChC1UN"
   },
   "outputs": [],
   "source": [
    "dataset = dataset.dropna()"
   ]
  },
  {
   "cell_type": "markdown",
   "metadata": {
    "colab_type": "text",
    "id": "4Sx_uuefLRHw"
   },
   "source": [
    "### Enkodiranje kategoričkih promenljivih\n",
    "\n",
    "Kolona `Origin` označava indeks zemlje iz koje automobil dolazi, i to:\n",
    "- 1 (Sjedinjene Američke Države, USA)\n",
    "- 2 (Evropa)\n",
    "- 3 (Japan)"
   ]
  },
  {
   "cell_type": "code",
   "execution_count": null,
   "metadata": {
    "colab": {},
    "colab_type": "code",
    "id": "lTrlJnzWLHn2"
   },
   "outputs": [],
   "source": [
    "# Listamo jedinstvene vrednosti u koloni (na 2 razlicita nacina)\n",
    "print(dataset.Origin.unique())\n",
    "print(dataset[\"Origin\"].unique())"
   ]
  },
  {
   "cell_type": "markdown",
   "metadata": {
    "colab_type": "text",
    "id": "8XKitwaH4v8h"
   },
   "source": [
    "SAVET: Ovo je izuzetno korisna transformacija u praksi. Želimo da elemente\n",
    "kolone zamenimo nekim drugim vrednosti u zavisnosti od mapiranja koje prosledimo."
   ]
  },
  {
   "cell_type": "code",
   "execution_count": null,
   "metadata": {
    "colab": {},
    "colab_type": "code",
    "id": "gWNTD2QjBWFJ"
   },
   "outputs": [],
   "source": [
    "dataset['Origin'] = dataset['Origin'].map({1: 'USA', 2: 'Europe', 3: 'Japan'})"
   ]
  },
  {
   "cell_type": "markdown",
   "metadata": {
    "colab_type": "text",
    "id": "X2bGpaH5MKDY"
   },
   "source": [
    "Vršimo dummy enkodiranje kategoričke promenljive."
   ]
  },
  {
   "cell_type": "code",
   "execution_count": null,
   "metadata": {
    "colab": {},
    "colab_type": "code",
    "id": "ulXz4J7PAUzk"
   },
   "outputs": [],
   "source": [
    "dataset = pd.get_dummies(dataset, prefix='', prefix_sep='')\n",
    "dataset.tail()"
   ]
  },
  {
   "cell_type": "markdown",
   "metadata": {
    "colab_type": "text",
    "id": "Cuym4yvk76vU"
   },
   "source": [
    "### Podela podataka\n",
    "\n",
    "Podatke sada želimo da podelimo na\n",
    "podatke za obučavanje i podatke za testiranje.\n",
    "\n",
    "Podatke za testiranje ćemo koristiti za finalnu evaluaciju našeg modela."
   ]
  },
  {
   "cell_type": "code",
   "execution_count": null,
   "metadata": {
    "colab": {},
    "colab_type": "code",
    "id": "qn-IGhUE7_1H"
   },
   "outputs": [],
   "source": [
    "# Uzimamo 80% podataka kao podatke za obucavanje\n",
    "train_dataset = dataset.sample(frac=0.8,random_state=0)\n",
    "\n",
    "# Ostalih 20% koristimo kao podatke za testiranje\n",
    "test_dataset = dataset.drop(train_dataset.index)"
   ]
  },
  {
   "cell_type": "markdown",
   "metadata": {
    "colab_type": "text",
    "id": "J4ubs136WLNp"
   },
   "source": [
    "### Analiza podataka\n",
    "\n",
    "Možemo međusobno uporediti atribute u našim podacima.\n"
   ]
  },
  {
   "cell_type": "code",
   "execution_count": null,
   "metadata": {
    "colab": {},
    "colab_type": "code",
    "id": "oRKO_x8gWKv-"
   },
   "outputs": [],
   "source": [
    "sns.pairplot(train_dataset[[\"MPG\", \"Cylinders\", \"Displacement\", \"Weight\"]], diag_kind=\"kde\")"
   ]
  },
  {
   "cell_type": "markdown",
   "metadata": {
    "colab_type": "text",
    "id": "gavKO_6DWRMP"
   },
   "source": [
    "I pogledati opšte statistike. Atribut `MPG` ignorišemo jer će nam to biti ciljna\n",
    "promenljiva."
   ]
  },
  {
   "cell_type": "code",
   "execution_count": null,
   "metadata": {
    "colab": {},
    "colab_type": "code",
    "id": "yi2FzC3T21jR"
   },
   "outputs": [],
   "source": [
    "train_stats = train_dataset.describe()\n",
    "train_stats.pop(\"MPG\")\n",
    "train_stats = train_stats.transpose()\n",
    "train_stats"
   ]
  },
  {
   "cell_type": "markdown",
   "metadata": {
    "colab_type": "text",
    "id": "Db7Auq1yXUvh"
   },
   "source": [
    "### Izdvajanje ciljne promenljive\n",
    "\n",
    "Iz podataka izdvajamo ciljnu promenljivu `MPG` ([miles per gallon](https://www.carwow.co.uk/guides/running/what-is-mpg-0255))."
   ]
  },
  {
   "cell_type": "code",
   "execution_count": null,
   "metadata": {
    "colab": {},
    "colab_type": "code",
    "id": "t2sluJdCW7jN"
   },
   "outputs": [],
   "source": [
    "train_labels = train_dataset.pop('MPG')\n",
    "test_labels = test_dataset.pop('MPG')"
   ]
  },
  {
   "cell_type": "markdown",
   "metadata": {
    "colab_type": "text",
    "id": "mRklxK5s388r"
   },
   "source": [
    "### Standardizacija podataka\n",
    "\n",
    "Naši podaci su na različitim skalama pa ima smisla izvršiti njihovu\n",
    "standardizaciju. Model može da radi i bez ovoga ali se otežava njegova\n",
    "optimizacija kao i uvodi zavisnost o različitim skalama merenja."
   ]
  },
  {
   "cell_type": "code",
   "execution_count": null,
   "metadata": {
    "colab": {},
    "colab_type": "code",
    "id": "JlC5ooJrgjQF"
   },
   "outputs": [],
   "source": [
    "def norm(x):\n",
    "  return (x - train_stats['mean']) / train_stats['std']\n",
    "normed_train_data = norm(train_dataset)\n",
    "normed_test_data = norm(test_dataset)"
   ]
  },
  {
   "cell_type": "markdown",
   "metadata": {
    "colab_type": "text",
    "id": "-ywmerQ6dSox"
   },
   "source": [
    "VAŽNO: Primetite da prosek i standardnu devijaciju koristimo iz skupa\n",
    "za obučavanje i kada vršimo standardizaciju podataka za trening \n",
    "**i** testiranje. Ovo je važno jer ne želimo da informacije iz skupa\n",
    "podataka za testiranje koristimo na bilo koji način prilikom obučavanja\n",
    "modela jer time uvodimo pristrasnost koja vodi preprilagođavanju."
   ]
  },
  {
   "cell_type": "markdown",
   "metadata": {
    "colab_type": "text",
    "id": "SmjdzxKzEu1-"
   },
   "source": [
    "## Regresioni model"
   ]
  },
  {
   "cell_type": "markdown",
   "metadata": {
    "colab_type": "text",
    "id": "6SWtkIjhrZwa"
   },
   "source": [
    "### Definicija modela\n",
    "\n",
    "Vreme je da definišemo naš model. Koristićemo `Sequential` model\n",
    "koji će predstavljati jednu neuronsku mrežu sa propagacijom unapred.\n",
    "Na izlazu ove mreže će biti neuron koji će davati ocenu atributa\n",
    "`MPG`.\n",
    "\n",
    "Kao funkciju greške koristićemo srednje-kvadratnu grešku\n",
    "(eng. mean squared error).\n",
    "\n",
    "Osim `Adam` optimizatora postoje razni drugi. Više o ovim stvarima na kursu\n",
    "*Mašinsko učenje* na master studijama. Radi ilustracije, ovde će biti\n",
    "korišćen `RMSprop` optimizator."
   ]
  },
  {
   "cell_type": "code",
   "execution_count": null,
   "metadata": {
    "colab": {},
    "colab_type": "code",
    "id": "c26juK7ZG8j-"
   },
   "outputs": [],
   "source": [
    "def build_model():\n",
    "  model = keras.Sequential([\n",
    "    layers.Dense(64, activation='relu', input_shape=[len(train_dataset.keys())]),\n",
    "    layers.Dense(64, activation='relu'),\n",
    "    layers.Dense(1)\n",
    "  ])\n",
    "\n",
    "  optimizer = tf.keras.optimizers.RMSprop(0.001)\n",
    "\n",
    "  model.compile(loss='mse',\n",
    "                optimizer=optimizer,\n",
    "                metrics=['mae', 'mse'])\n",
    "  return model"
   ]
  },
  {
   "cell_type": "code",
   "execution_count": null,
   "metadata": {
    "colab": {},
    "colab_type": "code",
    "id": "cGbPb-PHGbhs"
   },
   "outputs": [],
   "source": [
    "model = build_model()"
   ]
  },
  {
   "cell_type": "markdown",
   "metadata": {
    "colab_type": "text",
    "id": "Sj49Og4YGULr"
   },
   "source": [
    "### Pregled modela\n",
    "\n",
    "Koristeći `summary` funkciju možemo pogledati pregled definisanog modela."
   ]
  },
  {
   "cell_type": "code",
   "execution_count": null,
   "metadata": {
    "colab": {},
    "colab_type": "code",
    "id": "ReAD0n6MsFK-"
   },
   "outputs": [],
   "source": [
    "model.summary()"
   ]
  },
  {
   "cell_type": "markdown",
   "metadata": {
    "colab_type": "text",
    "id": "Vt6W50qGsJAL"
   },
   "source": [
    "Možemo isprobati model. Uzećemo podskup od 10 primera iz skupa za obučavanje\n",
    "i propustiti ih kroz mrežu.\n"
   ]
  },
  {
   "cell_type": "code",
   "execution_count": null,
   "metadata": {
    "colab": {},
    "colab_type": "code",
    "id": "-d-gBaVtGTSC"
   },
   "outputs": [],
   "source": [
    "example_batch = normed_train_data[:10]\n",
    "example_result = model.predict(example_batch)\n",
    "example_result"
   ]
  },
  {
   "cell_type": "code",
   "execution_count": 32,
   "metadata": {
    "colab": {
     "base_uri": "https://localhost:8080/",
     "height": 35
    },
    "colab_type": "code",
    "id": "MLJ4i_UyeY0f",
    "outputId": "ca4e6e86-1d2c-4f5e-ad12-eacdea248f94"
   },
   "outputs": [
    {
     "data": {
      "text/plain": [
       "(10, 1)"
      ]
     },
     "execution_count": 32,
     "metadata": {
      "tags": []
     },
     "output_type": "execute_result"
    }
   ],
   "source": [
    "example_result.shape"
   ]
  },
  {
   "cell_type": "markdown",
   "metadata": {
    "colab_type": "text",
    "id": "QlM8KrSOsaYo"
   },
   "source": [
    "Dobijamo 10 brojeva kao predikcije."
   ]
  },
  {
   "cell_type": "markdown",
   "metadata": {
    "colab_type": "text",
    "id": "0-qWCsh6DlyH"
   },
   "source": [
    "### Obučavanje modela\n",
    "\n",
    "Skup za obučavanje ćemo podeliti na dva nova skupa, jedan će biti skup\n",
    "na kome će se zapravo vršiti obučavanje (80% originalnog skupa za obučavanje),\n",
    "a validacioni skup ćemo koristiti da na kraju svake epohe evaluiramo\n",
    "koliko je dobar naš model.\n",
    "\n",
    "Obučavaćemo model 1000 epoha i čuvaćemo tačnost na podacima za\n",
    "obučavanje i validaciju tokom treninga. Funkcija `fit` vraća\n",
    "objekat koji sadrži neophodne podatke.\n"
   ]
  },
  {
   "cell_type": "code",
   "execution_count": null,
   "metadata": {
    "colab": {},
    "colab_type": "code",
    "id": "sD7qHCmNIOY0"
   },
   "outputs": [],
   "source": [
    "EPOCHS = 1000\n",
    "\n",
    "history = model.fit(\n",
    "  normed_train_data, train_labels,\n",
    "  epochs=EPOCHS, validation_split = 0.2, verbose=1)"
   ]
  },
  {
   "cell_type": "code",
   "execution_count": 22,
   "metadata": {
    "colab": {
     "base_uri": "https://localhost:8080/",
     "height": 287
    },
    "colab_type": "code",
    "id": "RGZCiXyyXYJa",
    "outputId": "c5f0086c-695b-42cb-d22f-76d2cfe22276"
   },
   "outputs": [
    {
     "data": {
      "text/plain": [
       "<matplotlib.legend.Legend at 0x7f2b300bf7b8>"
      ]
     },
     "execution_count": 22,
     "metadata": {
      "tags": []
     },
     "output_type": "execute_result"
    },
    {
     "data": {
      "image/png": "[encoded data removed]",
      "text/plain": [
       "<Figure size 432x288 with 1 Axes>"
      ]
     },
     "metadata": {
      "needs_background": "light",
      "tags": []
     },
     "output_type": "display_data"
    }
   ],
   "source": [
    "plt.plot(history.epoch, history.history['mse'])\n",
    "plt.plot(history.epoch, history.history['val_mse'])\n",
    "plt.ylim([0, 12])\n",
    "plt.legend(['Trening MSE', 'Validacioni MSE'])"
   ]
  },
  {
   "cell_type": "code",
   "execution_count": 23,
   "metadata": {
    "colab": {
     "base_uri": "https://localhost:8080/",
     "height": 287
    },
    "colab_type": "code",
    "id": "eqWUq_DtX4O2",
    "outputId": "0199413a-282e-4f5c-c763-d66a22b8fb34"
   },
   "outputs": [
    {
     "data": {
      "text/plain": [
       "<matplotlib.legend.Legend at 0x7f2b30291d68>"
      ]
     },
     "execution_count": 23,
     "metadata": {
      "tags": []
     },
     "output_type": "execute_result"
    },
    {
     "data": {
      "image/png": "[encoded data removed]",
      "text/plain": [
       "<Figure size 432x288 with 1 Axes>"
      ]
     },
     "metadata": {
      "needs_background": "light",
      "tags": []
     },
     "output_type": "display_data"
    }
   ],
   "source": [
    "plt.plot(history.epoch, history.history['mae'])\n",
    "plt.plot(history.epoch, history.history['val_mae'])\n",
    "plt.ylim([0, 4])\n",
    "plt.legend(['Trening MSE', 'Validacioni MSE'])"
   ]
  },
  {
   "cell_type": "markdown",
   "metadata": {
    "colab_type": "text",
    "id": "tQm3pc0FYPQB"
   },
   "source": [
    "Dobijene podatke možemo vizuelizovati pomoću biblioteke `pandas`.\n",
    "`DataFrame` je `pandas` tip koji predstavlja tabelarne podatke."
   ]
  },
  {
   "cell_type": "code",
   "execution_count": null,
   "metadata": {
    "colab": {},
    "colab_type": "code",
    "id": "4Xj91b-dymEy"
   },
   "outputs": [],
   "source": [
    "hist = pd.DataFrame(history.history)\n",
    "hist['epoch'] = history.epoch\n",
    "\n",
    "# Uzimamo poslednjih 5 vrsti\n",
    "hist.tail()"
   ]
  },
  {
   "cell_type": "markdown",
   "metadata": {
    "colab_type": "text",
    "id": "AqsuANc11FYv"
   },
   "source": [
    "Možemo primetiti da je 1000 epoha previše i da puštanje obučavanja da toliko\n",
    "dugo traje ne doprinosi tačnosti modela. Ponovićemo optimizacioni proces\n",
    "ponovo, ali ovaj put ćemo koristiti tehniku ranog zaustavljanja\n",
    "(eng. early stopping).\n",
    "\n",
    "Ideja je definisati skup ograničenja koja kad se ispune, obučavanje modela\n",
    "će biti zaustavljeno. Na primer, ukoliko se u `k` uzastopnih epoha ne\n",
    "poboljša vrednost `val_mse` ima smisla zaustaviti obučavanje.\n",
    "\n",
    "Kako odrediti parametar `k`? U pitanju je sličan problem kao i kako odrediti\n",
    "arhitekturu mreže, optimizator i slično.\n",
    "\n",
    "Više o `EarlyStopping` je dostupno [ovde](https://www.tensorflow.org/api_docs/python/tf/keras/callbacks/EarlyStopping)."
   ]
  },
  {
   "cell_type": "code",
   "execution_count": null,
   "metadata": {
    "colab": {},
    "colab_type": "code",
    "id": "fdMZuhUgzMZ4"
   },
   "outputs": [],
   "source": [
    "model = build_model()\n",
    "\n",
    "# Parametar `patience` je broj epoha koji se razmatra za zaustavljanje.\n",
    "# Parametar `monitor` predstavlja meru koja se poredi kroz epohe.\n",
    "early_stop = keras.callbacks.EarlyStopping(monitor='val_loss', patience=10)\n",
    "\n",
    "early_history = model.fit(normed_train_data, train_labels, \n",
    "                    epochs=EPOCHS, validation_split=0.2, verbose=1, \n",
    "                    callbacks=[early_stop])"
   ]
  },
  {
   "cell_type": "code",
   "execution_count": 26,
   "metadata": {
    "colab": {
     "base_uri": "https://localhost:8080/",
     "height": 301
    },
    "colab_type": "code",
    "id": "y8C67DpmZjIU",
    "outputId": "7cddf725-78f9-4ab0-bb95-a4e45cd69411"
   },
   "outputs": [
    {
     "data": {
      "text/plain": [
       "Text(0, 0.5, 'MAE [MPG]')"
      ]
     },
     "execution_count": 26,
     "metadata": {
      "tags": []
     },
     "output_type": "execute_result"
    },
    {
     "data": {
      "image/png": "[encoded data removed]",
      "text/plain": [
       "<Figure size 432x288 with 1 Axes>"
      ]
     },
     "metadata": {
      "needs_background": "light",
      "tags": []
     },
     "output_type": "display_data"
    }
   ],
   "source": [
    "plt.plot(early_history.epoch, early_history.history['mae'])\n",
    "plt.plot(early_history.epoch, early_history.history['val_mae'])\n",
    "plt.ylim([0, 10])\n",
    "plt.legend(['Trening MAE', 'Validacioni MAE'])\n",
    "plt.xlabel('Epohe')\n",
    "plt.ylabel('MAE [MPG]')"
   ]
  },
  {
   "cell_type": "markdown",
   "metadata": {
    "colab_type": "text",
    "id": "3St8-DmrX8P4"
   },
   "source": [
    "Graf pokazuje da je na validacionom skupu, prosečna greška oko +/- 2 MPG.\n",
    "Da li je ovo dobro ili ne, zavisi od mere i slučaja upotrebe koji zavise\n",
    "od problema do problema."
   ]
  },
  {
   "cell_type": "markdown",
   "metadata": {
    "colab_type": "text",
    "id": "OKvwopHue1dW"
   },
   "source": [
    "### Evaluacija modela\n",
    "\n",
    "Sledeće što ćemo  uraditi je da pogledamo koliko dobro model generalizuje\n",
    "na podacima za testiranje.\n",
    "\n",
    "Ovde se stvar malko komplikuje. Treba imati u vidu da smo model do sada\n",
    "obučavali na podskupu (80%) skupa za obučavanje kako bi imali validacioni skup.\n",
    "Nema smisla baciti podatke (20% podataka za obučavanje koji su završili kao validacioni podataci), tako da ćemo ponovo\n",
    "obučiti model, ali sada nam celokupnim podacima za obučavanje, i TAJ\n",
    "model ćemo koristiti za evaluaciju na test skupu.\n",
    "\n",
    "Postavlja se pitanje koliko epoha postaviti za obučavanje? Jedan od pristupa je\n",
    "postaviti broj epoha koji je uzet prilikom ranoh zaustavljanja. U momentu\n",
    "pisanja ovih materijala, na ovom primeru je to bilo 53."
   ]
  },
  {
   "cell_type": "code",
   "execution_count": 30,
   "metadata": {
    "colab": {
     "base_uri": "https://localhost:8080/",
     "height": 1000
    },
    "colab_type": "code",
    "id": "Mu-Bbbi-cIOR",
    "outputId": "3b736b32-6379-4c7d-a7f8-bb92044b511a"
   },
   "outputs": [
    {
     "name": "stdout",
     "output_type": "stream",
     "text": [
      "Epoch 1/53\n",
      "10/10 [==============================] - 0s 3ms/step - loss: 591.5789 - mae: 23.0428 - mse: 590.4249\n",
      "Epoch 2/53\n",
      "10/10 [==============================] - 0s 2ms/step - loss: 528.6136 - mae: 21.6310 - mse: 527.8847\n",
      "Epoch 3/53\n",
      "10/10 [==============================] - 0s 2ms/step - loss: 465.3437 - mae: 20.1757 - mse: 466.1727\n",
      "Epoch 4/53\n",
      "10/10 [==============================] - 0s 2ms/step - loss: 399.5216 - mae: 18.5125 - mse: 399.9228\n",
      "Epoch 5/53\n",
      "10/10 [==============================] - 0s 2ms/step - loss: 327.7800 - mae: 16.5621 - mse: 328.5016\n",
      "Epoch 6/53\n",
      "10/10 [==============================] - 0s 2ms/step - loss: 254.6235 - mae: 14.3399 - mse: 256.0094\n",
      "Epoch 7/53\n",
      "10/10 [==============================] - 0s 2ms/step - loss: 187.2829 - mae: 12.0422 - mse: 187.3984\n",
      "Epoch 8/53\n",
      "10/10 [==============================] - 0s 2ms/step - loss: 125.7946 - mae: 9.6855 - mse: 126.8701\n",
      "Epoch 9/53\n",
      "10/10 [==============================] - 0s 2ms/step - loss: 80.2000 - mae: 7.6095 - mse: 80.6700\n",
      "Epoch 10/53\n",
      "10/10 [==============================] - 0s 2ms/step - loss: 50.8808 - mae: 5.7488 - mse: 50.7403\n",
      "Epoch 11/53\n",
      "10/10 [==============================] - 0s 2ms/step - loss: 34.5325 - mae: 4.6131 - mse: 34.5922\n",
      "Epoch 12/53\n",
      "10/10 [==============================] - 0s 2ms/step - loss: 27.2202 - mae: 4.0541 - mse: 27.2700\n",
      "Epoch 13/53\n",
      "10/10 [==============================] - 0s 2ms/step - loss: 22.6356 - mae: 3.6798 - mse: 22.7900\n",
      "Epoch 14/53\n",
      "10/10 [==============================] - 0s 3ms/step - loss: 19.6831 - mae: 3.3946 - mse: 19.7191\n",
      "Epoch 15/53\n",
      "10/10 [==============================] - 0s 2ms/step - loss: 17.2084 - mae: 3.1566 - mse: 17.2473\n",
      "Epoch 16/53\n",
      "10/10 [==============================] - 0s 2ms/step - loss: 15.4001 - mae: 2.9666 - mse: 15.2684\n",
      "Epoch 17/53\n",
      "10/10 [==============================] - 0s 2ms/step - loss: 13.8784 - mae: 2.7934 - mse: 13.7463\n",
      "Epoch 18/53\n",
      "10/10 [==============================] - 0s 2ms/step - loss: 12.3198 - mae: 2.6246 - mse: 12.3589\n",
      "Epoch 19/53\n",
      "10/10 [==============================] - 0s 2ms/step - loss: 11.5064 - mae: 2.4972 - mse: 11.4603\n",
      "Epoch 20/53\n",
      "10/10 [==============================] - 0s 2ms/step - loss: 10.6874 - mae: 2.4187 - mse: 10.7140\n",
      "Epoch 21/53\n",
      "10/10 [==============================] - 0s 2ms/step - loss: 10.1670 - mae: 2.2810 - mse: 10.0804\n",
      "Epoch 22/53\n",
      "10/10 [==============================] - 0s 2ms/step - loss: 9.7974 - mae: 2.2394 - mse: 9.5521\n",
      "Epoch 23/53\n",
      "10/10 [==============================] - 0s 2ms/step - loss: 9.4232 - mae: 2.1921 - mse: 9.3686\n",
      "Epoch 24/53\n",
      "10/10 [==============================] - 0s 2ms/step - loss: 8.8014 - mae: 2.1051 - mse: 8.7194\n",
      "Epoch 25/53\n",
      "10/10 [==============================] - 0s 2ms/step - loss: 8.5916 - mae: 2.1043 - mse: 8.6074\n",
      "Epoch 26/53\n",
      "10/10 [==============================] - 0s 3ms/step - loss: 8.6281 - mae: 2.0620 - mse: 8.4875\n",
      "Epoch 27/53\n",
      "10/10 [==============================] - 0s 2ms/step - loss: 8.1503 - mae: 2.0175 - mse: 8.1447\n",
      "Epoch 28/53\n",
      "10/10 [==============================] - 0s 2ms/step - loss: 8.0602 - mae: 1.9970 - mse: 8.0549\n",
      "Epoch 29/53\n",
      "10/10 [==============================] - 0s 2ms/step - loss: 7.8062 - mae: 1.9804 - mse: 7.8695\n",
      "Epoch 30/53\n",
      "10/10 [==============================] - 0s 2ms/step - loss: 7.7738 - mae: 1.9703 - mse: 7.8394\n",
      "Epoch 31/53\n",
      "10/10 [==============================] - 0s 3ms/step - loss: 7.5989 - mae: 1.9616 - mse: 7.6759\n",
      "Epoch 32/53\n",
      "10/10 [==============================] - 0s 2ms/step - loss: 7.7613 - mae: 1.9589 - mse: 7.7130\n",
      "Epoch 33/53\n",
      "10/10 [==============================] - 0s 2ms/step - loss: 7.6807 - mae: 1.9560 - mse: 7.6184\n",
      "Epoch 34/53\n",
      "10/10 [==============================] - 0s 2ms/step - loss: 7.4603 - mae: 1.9145 - mse: 7.4386\n",
      "Epoch 35/53\n",
      "10/10 [==============================] - 0s 2ms/step - loss: 7.2296 - mae: 1.9107 - mse: 7.2606\n",
      "Epoch 36/53\n",
      "10/10 [==============================] - 0s 2ms/step - loss: 7.4598 - mae: 1.9447 - mse: 7.4445\n",
      "Epoch 37/53\n",
      "10/10 [==============================] - 0s 2ms/step - loss: 7.4349 - mae: 1.9323 - mse: 7.3207\n",
      "Epoch 38/53\n",
      "10/10 [==============================] - 0s 2ms/step - loss: 7.2925 - mae: 1.9296 - mse: 7.1904\n",
      "Epoch 39/53\n",
      "10/10 [==============================] - 0s 2ms/step - loss: 7.0881 - mae: 1.9068 - mse: 7.0873\n",
      "Epoch 40/53\n",
      "10/10 [==============================] - 0s 2ms/step - loss: 7.0880 - mae: 1.8961 - mse: 7.1210\n",
      "Epoch 41/53\n",
      "10/10 [==============================] - 0s 2ms/step - loss: 6.9964 - mae: 1.8965 - mse: 6.9674\n",
      "Epoch 42/53\n",
      "10/10 [==============================] - 0s 2ms/step - loss: 7.0089 - mae: 1.9125 - mse: 7.0703\n",
      "Epoch 43/53\n",
      "10/10 [==============================] - 0s 2ms/step - loss: 7.0759 - mae: 1.8964 - mse: 7.0500\n",
      "Epoch 44/53\n",
      "10/10 [==============================] - 0s 2ms/step - loss: 7.0692 - mae: 1.9102 - mse: 7.0372\n",
      "Epoch 45/53\n",
      "10/10 [==============================] - 0s 2ms/step - loss: 6.8553 - mae: 1.8832 - mse: 6.9118\n",
      "Epoch 46/53\n",
      "10/10 [==============================] - 0s 2ms/step - loss: 6.9568 - mae: 1.8777 - mse: 6.8451\n",
      "Epoch 47/53\n",
      "10/10 [==============================] - 0s 2ms/step - loss: 7.0055 - mae: 1.8736 - mse: 6.9014\n",
      "Epoch 48/53\n",
      "10/10 [==============================] - 0s 2ms/step - loss: 6.8840 - mae: 1.9036 - mse: 6.9671\n",
      "Epoch 49/53\n",
      "10/10 [==============================] - 0s 2ms/step - loss: 6.8806 - mae: 1.8708 - mse: 6.7728\n",
      "Epoch 50/53\n",
      "10/10 [==============================] - 0s 2ms/step - loss: 6.9228 - mae: 1.8913 - mse: 6.8894\n",
      "Epoch 51/53\n",
      "10/10 [==============================] - 0s 2ms/step - loss: 6.7781 - mae: 1.8577 - mse: 6.7725\n",
      "Epoch 52/53\n",
      "10/10 [==============================] - 0s 3ms/step - loss: 6.6654 - mae: 1.8451 - mse: 6.7037\n",
      "Epoch 53/53\n",
      "10/10 [==============================] - 0s 2ms/step - loss: 6.9509 - mae: 1.9033 - mse: 6.8453\n"
     ]
    }
   ],
   "source": [
    "model = build_model()\n",
    "\n",
    "early_stop_epochs = 53\n",
    "\n",
    "final_history = model.fit(normed_train_data, train_labels, \n",
    "                    epochs=early_stop_epochs, verbose=1)"
   ]
  },
  {
   "cell_type": "markdown",
   "metadata": {
    "colab_type": "text",
    "id": "76RVqUtdcovq"
   },
   "source": [
    "Konačno, možemo pogledati kako se naš model ponaša na skupu za testiranje."
   ]
  },
  {
   "cell_type": "code",
   "execution_count": null,
   "metadata": {
    "colab": {},
    "colab_type": "code",
    "id": "jl_yNr5n1kms"
   },
   "outputs": [],
   "source": [
    "loss, mae, mse = model.evaluate(normed_test_data, test_labels, verbose=2)\n",
    "\n",
    "print(\"Testing set Mean Abs Error: {:5.2f} MPG\".format(mae))"
   ]
  },
  {
   "cell_type": "markdown",
   "metadata": {
    "colab_type": "text",
    "id": "3DhFbCnYcswV"
   },
   "source": [
    "Dobijamo 1.83 MPG srednja apsolutna greška, što nije loše. Zanimljivo da je\n",
    "još i manje u odnosu na validacionu grešku. Ovo je i razumno jer smo sada\n",
    "koristili više podataka."
   ]
  },
  {
   "cell_type": "markdown",
   "metadata": {
    "colab_type": "text",
    "id": "ft603OzXuEZC"
   },
   "source": [
    "### Predviđanje vrednosti u budućnosti\n",
    "\n",
    "Da li je kraj? Da i ne, zavisi čega. Ako smo zadovoljni ovim modelom i želimo da\n",
    "ga pomerimo u produkciju i koristimo, nema smisla baciti podatke koji postoje\n",
    "u skupu za testiranje.\n",
    "\n",
    "Ima smisla ponovo obučiti model, sada nad svim podacima. Kako onda evaluiramo\n",
    "taj model? Nećemo ga evaluirati. Ako smo sproveli čitaj ovaj proces dobro,\n",
    "greška na skupu za testiranje nam daje aproksimaciju kvaliteta ovog finalnog\n",
    "modela koji smo trenirali nad svim podacima."
   ]
  }
 ],
 "metadata": {
  "accelerator": "GPU",
  "colab": {
   "collapsed_sections": [],
   "name": "tf.keras.fuel.ipynb",
   "provenance": [],
   "toc_visible": true
  },
  "kernelspec": {
   "display_name": "Python 3",
   "language": "python",
   "name": "python3"
  },
  "language_info": {
   "codemirror_mode": {
    "name": "ipython",
    "version": 3
   },
   "file_extension": ".py",
   "mimetype": "text/x-python",
   "name": "python",
   "nbconvert_exporter": "python",
   "pygments_lexer": "ipython3",
   "version": "3.8.5"
  }
 },
 "nbformat": 4,
 "nbformat_minor": 4
}
